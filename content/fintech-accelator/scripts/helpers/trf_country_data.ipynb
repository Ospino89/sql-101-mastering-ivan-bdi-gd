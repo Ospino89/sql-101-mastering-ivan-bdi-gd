{
 "cells": [
  {
   "cell_type": "code",
   "execution_count": 4,
   "id": "a062a5c0",
   "metadata": {},
   "outputs": [
    {
     "name": "stdout",
     "output_type": "stream",
     "text": [
      "Defaulting to user installation because normal site-packages is not writeable\n",
      "Collecting lxml\n",
      "  Downloading lxml-5.3.2-cp312-cp312-win_amd64.whl.metadata (3.7 kB)\n",
      "Downloading lxml-5.3.2-cp312-cp312-win_amd64.whl (3.8 MB)\n",
      "   ---------------------------------------- 0.0/3.8 MB ? eta -:--:--\n",
      "   -- ------------------------------------- 0.3/3.8 MB ? eta -:--:--\n",
      "   ----- ---------------------------------- 0.5/3.8 MB 2.1 MB/s eta 0:00:02\n",
      "   ---------- ----------------------------- 1.0/3.8 MB 2.0 MB/s eta 0:00:02\n",
      "   ---------------- ----------------------- 1.6/3.8 MB 2.1 MB/s eta 0:00:02\n",
      "   --------------------- ------------------ 2.1/3.8 MB 2.3 MB/s eta 0:00:01\n",
      "   --------------------------- ------------ 2.6/3.8 MB 2.2 MB/s eta 0:00:01\n",
      "   ------------------------------ --------- 2.9/3.8 MB 2.1 MB/s eta 0:00:01\n",
      "   -------------------------------- ------- 3.1/3.8 MB 2.0 MB/s eta 0:00:01\n",
      "   -------------------------------------- - 3.7/3.8 MB 2.1 MB/s eta 0:00:01\n",
      "   ---------------------------------------- 3.8/3.8 MB 2.0 MB/s eta 0:00:00\n",
      "Installing collected packages: lxml\n",
      "Successfully installed lxml-5.3.2\n",
      "Note: you may need to restart the kernel to use updated packages.\n"
     ]
    },
    {
     "name": "stderr",
     "output_type": "stream",
     "text": [
      "\n",
      "[notice] A new release of pip is available: 25.0 -> 25.0.1\n",
      "[notice] To update, run: python.exe -m pip install --upgrade pip\n"
     ]
    }
   ],
   "source": [
    "%pip install lxml"
   ]
  },
  {
   "cell_type": "code",
   "execution_count": 9,
   "id": "56251378",
   "metadata": {},
   "outputs": [],
   "source": [
    "import pandas as pd\n",
    "from io import StringIO"
   ]
  },
  {
   "cell_type": "code",
   "execution_count": 10,
   "id": "4ac7af3f",
   "metadata": {},
   "outputs": [],
   "source": [
    "iso_country_codes_table_html = \"\"\"\n",
    "<table><thead><tr><th>Country Name</th><th>Numeric Country Code</th><th>Alpha 2 Country Code</th><th>Alpha 3 Country Code</th></tr></thead><tbody><tr><td>Afghanistan</td><td>004</td><td>AF</td><td>AFG</td></tr><tr><td>Aland Islands</td><td>248</td><td>AX</td><td>ALA</td></tr><tr><td>Albania</td><td>008</td><td>AL</td><td>ALB</td></tr><tr><td>Algeria</td><td>012</td><td>DZ</td><td>DZA</td></tr><tr><td>American Samoa</td><td>016</td><td>AS</td><td>ASM</td></tr><tr><td>Andorra</td><td>020</td><td>AD</td><td>AND</td></tr><tr><td>Angola</td><td>024</td><td>AO</td><td>AGO</td></tr><tr><td>Anguilla</td><td>660</td><td>AI</td><td>AIA</td></tr><tr><td>Antarctica</td><td>010</td><td>AQ</td><td>ATA</td></tr><tr><td>Antigua and Barbuda</td><td>028</td><td>AG</td><td>ATG</td></tr><tr><td>Argentina</td><td>032</td><td>AR</td><td>ARG</td></tr><tr><td>Armenia</td><td>051</td><td>AM</td><td>ARM</td></tr><tr><td>Aruba</td><td>533</td><td>AW</td><td>ABW</td></tr><tr><td>Australia</td><td>036</td><td>AU</td><td>AUS</td></tr><tr><td>Austria</td><td>040</td><td>AT</td><td>AUT</td></tr><tr><td>Azerbaijan</td><td>031</td><td>AZ</td><td>AZE</td></tr><tr><td>Bahamas</td><td>044</td><td>BS</td><td>BHS</td></tr><tr><td>Bahrain</td><td>048</td><td>BH</td><td>BHR</td></tr><tr><td>Bangladesh</td><td>050</td><td>BD</td><td>BGD</td></tr><tr><td>Barbados</td><td>052</td><td>BB</td><td>BRB</td></tr><tr><td>Belarus</td><td>112</td><td>BY</td><td>BLR</td></tr><tr><td>Belgium</td><td>056</td><td>BE</td><td>BEL</td></tr><tr><td>Belize</td><td>084</td><td>BZ</td><td>BLZ</td></tr><tr><td>Benin</td><td>204</td><td>BJ</td><td>BEN</td></tr><tr><td>Bermuda</td><td>060</td><td>BM</td><td>BMU</td></tr><tr><td>Bhutan</td><td>064</td><td>BT</td><td>BTN</td></tr><tr><td>Bolivia, Plurinational State of</td><td>068</td><td>BO</td><td>BOL</td></tr><tr><td>Bonaire Sint Eustatius and Saba</td><td>535</td><td>BQ</td><td>BES</td></tr><tr><td>Bosnia and Herzegovina</td><td>070</td><td>BA</td><td>BIH</td></tr><tr><td>Botswana</td><td>072</td><td>BW</td><td>BWA</td></tr><tr><td>Bouvet Island</td><td>074</td><td>BV</td><td>BVT</td></tr><tr><td>Brazil</td><td>076</td><td>BR</td><td>BRA</td></tr><tr><td>British Indian Ocean Territory</td><td>086</td><td>IO</td><td>IOT</td></tr><tr><td>Brunei Darussalam</td><td>096</td><td>BN</td><td>BRN</td></tr><tr><td>Bulgaria</td><td>100</td><td>BG</td><td>BGR</td></tr><tr><td>Burkina Faso</td><td>854</td><td>BF</td><td>BFA</td></tr><tr><td>Burundi</td><td>108</td><td>BI</td><td>BDI</td></tr><tr><td>Cambodia</td><td>116</td><td>KH</td><td>KHM</td></tr><tr><td>Cameroon</td><td>120</td><td>CM</td><td>CMR</td></tr><tr><td>Canada</td><td>124</td><td>CA</td><td>CAN</td></tr><tr><td>Cape Verde</td><td>132</td><td>CV</td><td>CPV</td></tr><tr><td>Cayman Islands</td><td>136</td><td>KY</td><td>CYM</td></tr><tr><td>Central African Republic</td><td>140</td><td>CF</td><td>CAF</td></tr><tr><td>Chad</td><td>148</td><td>TD</td><td>TCD</td></tr><tr><td>Chile</td><td>152</td><td>CL</td><td>CHL</td></tr><tr><td>China</td><td>156</td><td>CN</td><td>CHN</td></tr><tr><td>Christmas Island</td><td>162</td><td>CX</td><td>CXR</td></tr><tr><td>Cocos (Keeling) Islands</td><td>166</td><td>CC</td><td>CCK</td></tr><tr><td>Colombia</td><td>170</td><td>CO</td><td>COL</td></tr><tr><td>Comoros</td><td>174</td><td>KM</td><td>COM</td></tr><tr><td>Congo</td><td>178</td><td>CG</td><td>COG</td></tr><tr><td>Congo, Democratic Republic of</td><td>180</td><td>CD</td><td>ZAR</td></tr><tr><td>Cook Islands</td><td>184</td><td>CK</td><td>COK</td></tr><tr><td>Costa Rica</td><td>188</td><td>CR</td><td>CRI</td></tr><tr><td>Côte d’Ivoire</td><td>384</td><td>CI</td><td>CIV</td></tr><tr><td>Croatia</td><td>191</td><td>HR</td><td>HRV</td></tr><tr><td>Cuba</td><td>192</td><td>CU</td><td>CUB</td></tr><tr><td>Curacao</td><td>531</td><td>CW</td><td>CUW</td></tr><tr><td>Cyprus</td><td>196</td><td>CY</td><td>CYP</td></tr><tr><td>Czech Republic</td><td>203</td><td>CZ</td><td>CZE</td></tr><tr><td>Denmark</td><td>208</td><td>DK</td><td>DNK</td></tr><tr><td>Djibouti</td><td>262</td><td>DJ</td><td>DJI</td></tr><tr><td>Dominica</td><td>212</td><td>DM</td><td>DMA</td></tr><tr><td>Dominican Republic</td><td>214</td><td>DO</td><td>DOM</td></tr><tr><td>Ecuador</td><td>218</td><td>EC</td><td>ECU</td></tr><tr><td>Egypt</td><td>818</td><td>EG</td><td>EGY</td></tr><tr><td>El Salvador</td><td>222</td><td>SV</td><td>SLV</td></tr><tr><td>Equatorial Guinea</td><td>226</td><td>GQ</td><td>GNQ</td></tr><tr><td>Eritrea</td><td>232</td><td>ER</td><td>ERI</td></tr><tr><td>Estonia</td><td>233</td><td>EE</td><td>EST</td></tr><tr><td>Ethiopia</td><td>230</td><td>ET</td><td>ETH</td></tr><tr><td>Falkland Islands (Malvinas)</td><td>238</td><td>FK</td><td>FLK</td></tr><tr><td>Faroe Islands</td><td>234</td><td>FO</td><td>FRO</td></tr><tr><td>Fiji</td><td>242</td><td>FJ</td><td>FJI</td></tr><tr><td>Finland</td><td>246</td><td>FI</td><td>FIN</td></tr><tr><td>France</td><td>250</td><td>FR</td><td>FRA</td></tr><tr><td>France Guiana</td><td>254</td><td>GF</td><td>GUF</td></tr><tr><td>French Polynesia</td><td>258</td><td>PF</td><td>PYF</td></tr><tr><td>French Southern Territories</td><td>260</td><td>TF</td><td>ATF</td></tr><tr><td>Gabon</td><td>266</td><td>GA</td><td>GAB</td></tr><tr><td>Gambia</td><td>270</td><td>GM</td><td>GMB</td></tr><tr><td>Georgia</td><td>268</td><td>GE</td><td>GEO</td></tr><tr><td>Germany</td><td>280</td><td>DE</td><td>DEU</td></tr><tr><td>Ghana</td><td>288</td><td>GH</td><td>GHA</td></tr><tr><td>Gibraltar</td><td>292</td><td>GI</td><td>GIB</td></tr><tr><td>Greece</td><td>300</td><td>GR</td><td>GRC</td></tr><tr><td>Greenland</td><td>304</td><td>GL</td><td>GRL</td></tr><tr><td>Grenada</td><td>308</td><td>GD</td><td>GRD</td></tr><tr><td>Guadeloupe</td><td>312</td><td>GP</td><td>GLP</td></tr><tr><td>Guam</td><td>316</td><td>GU</td><td>GUM</td></tr><tr><td>Guatemala</td><td>320</td><td>GT</td><td>GTM</td></tr><tr><td>Guernsey</td><td>831</td><td>GG</td><td>GGY</td></tr><tr><td>Guinea</td><td>324</td><td>GN</td><td>GIN</td></tr><tr><td>Guinea – Bissau</td><td>624</td><td>GW</td><td>GNB</td></tr><tr><td>Guyana</td><td>328</td><td>GY</td><td>GUY</td></tr><tr><td>Haiti</td><td>332</td><td>HT</td><td>HTI</td></tr><tr><td>Heard and McDonald Islands</td><td>334</td><td>HM</td><td>HMD</td></tr><tr><td>Holy See (Vatican City State)</td><td>336</td><td>VA</td><td>VAT</td></tr><tr><td>Honduras</td><td>340</td><td>HN</td><td>HND</td></tr><tr><td>Hong Kong</td><td>344</td><td>HK</td><td>HKG</td></tr><tr><td>Hungary</td><td>348</td><td>HU</td><td>HUN</td></tr><tr><td>Iceland</td><td>352</td><td>IS</td><td>ISL</td></tr><tr><td>India</td><td>356</td><td>IN</td><td>IND</td></tr><tr><td>Indonesia</td><td>360</td><td>ID</td><td>IDN</td></tr><tr><td>Iran, Islamic Republic Of</td><td>364</td><td>IR</td><td>IRN</td></tr><tr><td>Iraq</td><td>368</td><td>IQ</td><td>IRQ</td></tr><tr><td>Ireland</td><td>372</td><td>IE</td><td>IRL</td></tr><tr><td>Isle of Man</td><td>833</td><td>IM</td><td>IMN</td></tr><tr><td>Israel</td><td>376</td><td>IL</td><td>ISR</td></tr><tr><td>Italy</td><td>380</td><td>IT</td><td>ITA</td></tr><tr><td>Jamaica</td><td>388</td><td>JM</td><td>JAM</td></tr><tr><td>Japan</td><td>392</td><td>JP</td><td>JPN</td></tr><tr><td>Jersey</td><td>832</td><td>JE</td><td>JEY</td></tr><tr><td>Jordan</td><td>400</td><td>JO</td><td>JOR</td></tr><tr><td>Kazakhstan</td><td>398</td><td>KZ</td><td>KAZ</td></tr><tr><td>Kenya</td><td>404</td><td>KE</td><td>KEN</td></tr><tr><td>Kiribati</td><td>296</td><td>KI</td><td>KIR</td></tr><tr><td>Korea, Demo Peoples Repub of</td><td>408</td><td>KP</td><td>PRK</td></tr><tr><td>Korea, Republic of</td><td>410</td><td>KR</td><td>KOR</td></tr><tr><td>Kosovo</td><td>900</td><td>QZ</td><td>QZZ</td></tr><tr><td>Kuwait</td><td>414</td><td>KW</td><td>KWT</td></tr><tr><td>Kyrgyzstan</td><td>417</td><td>KG</td><td>KGZ</td></tr><tr><td>Lao Peoples Democratic Repub</td><td>418</td><td>LA</td><td>LAO</td></tr><tr><td>Latvia</td><td>428</td><td>LV</td><td>LVA</td></tr><tr><td>Lebanon</td><td>422</td><td>LB</td><td>LBN</td></tr><tr><td>Lesotho</td><td>426</td><td>LS</td><td>LSO</td></tr><tr><td>Liberia</td><td>430</td><td>LR</td><td>LBR</td></tr><tr><td>Libyan Arab Jamahiriya</td><td>434</td><td>LY</td><td>LBY</td></tr><tr><td>Liechtenstein</td><td>438</td><td>LI</td><td>LIE</td></tr><tr><td>Lithuania</td><td>440</td><td>LT</td><td>LTU</td></tr><tr><td>Luxembourg</td><td>442</td><td>LU</td><td>LUX</td></tr><tr><td>Macao</td><td>446</td><td>MO</td><td>MAC</td></tr><tr><td>Macedonia</td><td>807</td><td>MK</td><td>MKD</td></tr><tr><td>Madagascar</td><td>450</td><td>MG</td><td>MDG</td></tr><tr><td>Malawi</td><td>454</td><td>MW</td><td>MWI</td></tr><tr><td>Malaysia</td><td>458</td><td>MY</td><td>MYS</td></tr><tr><td>Maldives</td><td>462</td><td>MV</td><td>MDV</td></tr><tr><td>Mali</td><td>466</td><td>ML</td><td>MLI</td></tr><tr><td>Malta</td><td>470</td><td>MT</td><td>MLT</td></tr><tr><td>Marshall Islands</td><td>584</td><td>MH</td><td>MHL</td></tr><tr><td>Martinique</td><td>474</td><td>MQ</td><td>MTQ</td></tr><tr><td>Mauritania</td><td>478</td><td>MR</td><td>MRT</td></tr><tr><td>Mauritius</td><td>480</td><td>MU</td><td>MUS</td></tr><tr><td>Mayotte</td><td>175</td><td>YT</td><td>MYT</td></tr><tr><td>Mexico</td><td>484</td><td>MX</td><td>MEX</td></tr><tr><td>Micronesia, Federated States of</td><td>583</td><td>FM</td><td>FSM</td></tr><tr><td>Moldova, Republic of</td><td>498</td><td>MD</td><td>MDA</td></tr><tr><td>Monaco</td><td>492</td><td>MC</td><td>MCO</td></tr><tr><td>Mongolia</td><td>496</td><td>MN</td><td>MNG</td></tr><tr><td>Montenegro</td><td>499</td><td>ME</td><td>MNE</td></tr><tr><td>Montserrat</td><td>500</td><td>MS</td><td>MSR</td></tr><tr><td>Morocco</td><td>504</td><td>MA</td><td>MAR</td></tr><tr><td>Mozambique</td><td>508</td><td>MZ</td><td>MOZ</td></tr><tr><td>Myanmar</td><td>104</td><td>MM</td><td>MMR</td></tr><tr><td>Namibia</td><td>516</td><td>NA</td><td>NAM</td></tr><tr><td>Nauru</td><td>520</td><td>NR</td><td>NRU</td></tr><tr><td>Nepal</td><td>524</td><td>NP</td><td>NPL</td></tr><tr><td>Netherlands</td><td>528</td><td>NL</td><td>NLD</td></tr><tr><td>Netherlands Antilles</td><td>530</td><td>AN</td><td>ANT</td></tr><tr><td>New Caledonia</td><td>540</td><td>NC</td><td>NCL</td></tr><tr><td>New Zealand</td><td>554</td><td>NZ</td><td>NZL</td></tr><tr><td>Nicaragua</td><td>558</td><td>NI</td><td>NIC</td></tr><tr><td>Niger</td><td>562</td><td>NE</td><td>NER</td></tr><tr><td>Nigeria</td><td>566</td><td>NG</td><td>NGA</td></tr><tr><td>Niue</td><td>570</td><td>NU</td><td>NIU</td></tr><tr><td>Norfolk Island</td><td>574</td><td>NF</td><td>NFK</td></tr><tr><td>Northern Mariana Islands</td><td>580</td><td>MP</td><td>MNP</td></tr><tr><td>Norway</td><td>578</td><td>NO</td><td>NOR</td></tr><tr><td>Oman</td><td>512</td><td>OM</td><td>OMN</td></tr><tr><td>Pakistan</td><td>586</td><td>PK</td><td>PAK</td></tr><tr><td>Palau</td><td>585</td><td>PW</td><td>PLW</td></tr><tr><td>Palestinian Territory Occupied</td><td>275</td><td>PS</td><td>PSE</td></tr><tr><td>Panama</td><td>591</td><td>PA</td><td>PAN</td></tr><tr><td>Papua New Guinea</td><td>598</td><td>PG</td><td>PNG</td></tr><tr><td>Paraguay</td><td>600</td><td>PY</td><td>PRY</td></tr><tr><td>Peru</td><td>604</td><td>PE</td><td>PER</td></tr><tr><td>Philippines</td><td>608</td><td>PH</td><td>PHL</td></tr><tr><td>Pitcairn</td><td>612</td><td>PN</td><td>PCN</td></tr><tr><td>Poland</td><td>616</td><td>PL</td><td>POL</td></tr><tr><td>Portugal</td><td>620</td><td>PT</td><td>PRT</td></tr><tr><td>Puerto Rico</td><td>630</td><td>PR</td><td>PRI</td></tr><tr><td>Qatar</td><td>634</td><td>QA</td><td>QAT</td></tr><tr><td>Republic of South Sudan</td><td>728</td><td>SS</td><td>SSD</td></tr><tr><td>Reunion</td><td>638</td><td>RE</td><td>REU</td></tr><tr><td>Romania</td><td>642</td><td>RO</td><td>ROU</td></tr><tr><td>Russian Federation</td><td>643</td><td>RU</td><td>RUS</td></tr><tr><td>Rwanda</td><td>646</td><td>RW</td><td>RWA</td></tr><tr><td>S Georgia S Sandwich Islands</td><td>239</td><td>GS</td><td>SGS</td></tr><tr><td>Saint Barthelemy</td><td>652</td><td>BL</td><td>BLM</td></tr><tr><td>Saint Helena</td><td>654</td><td>SH</td><td>SHN</td></tr><tr><td>Saint Kitts and Nevis</td><td>659</td><td>KN</td><td>KNA</td></tr><tr><td>Saint Lucia</td><td>662</td><td>LC</td><td>LCA</td></tr><tr><td>Saint Martin French Part</td><td>663</td><td>MF</td><td>MAF</td></tr><tr><td>Saint Pierre and Miquelon</td><td>666</td><td>PM</td><td>SPM</td></tr><tr><td>Samoa</td><td>882</td><td>WS</td><td>WSM</td></tr><tr><td>San Marino</td><td>674</td><td>SM</td><td>SMR</td></tr><tr><td>Sao Tome and Principe</td><td>678</td><td>ST</td><td>STP</td></tr><tr><td>Saudi Arabia</td><td>682</td><td>SA</td><td>SAU</td></tr><tr><td>Senegal</td><td>686</td><td>SN</td><td>SEN</td></tr><tr><td>Serbia</td><td>688</td><td>RS</td><td>SRB</td></tr><tr><td>Seychelles</td><td>690</td><td>SC</td><td>SYC</td></tr><tr><td>Sierra Leone</td><td>694</td><td>SL</td><td>SLE</td></tr><tr><td>Singapore</td><td>702</td><td>SG</td><td>SGP</td></tr><tr><td>Sint Maarten (Dutch Part)</td><td>534</td><td>SX</td><td>SXM</td></tr><tr><td>Slovakia</td><td>703</td><td>SK</td><td>SVK</td></tr><tr><td>Slovenia</td><td>705</td><td>SI</td><td>SVN</td></tr><tr><td>Solomon Islands</td><td>090</td><td>SB</td><td>SLB</td></tr><tr><td>Somalia</td><td>706</td><td>SO</td><td>SOM</td></tr><tr><td>South Africa</td><td>710</td><td>ZA</td><td>ZAF</td></tr><tr><td>Spain</td><td>724</td><td>ES</td><td>ESP</td></tr><tr><td>Sri Lanka</td><td>144</td><td>LK</td><td>LKA</td></tr><tr><td>St. Vincent and the Grenadines</td><td>670</td><td>VC</td><td>VCT</td></tr><tr><td>Sudan</td><td>729</td><td>SD</td><td>SDN</td></tr><tr><td>Sudan-2</td><td>736</td><td>YY</td><td>YYY</td></tr><tr><td>Suriname</td><td>740</td><td>SR</td><td>SUR</td></tr><tr><td>Svalbard and Jan Mayen</td><td>744</td><td>SJ</td><td>SJM</td></tr><tr><td>Swaziland</td><td>748</td><td>SZ</td><td>SWZ</td></tr><tr><td>Sweden</td><td>752</td><td>SE</td><td>SWE</td></tr><tr><td>Switzerland</td><td>756</td><td>CH</td><td>CHE</td></tr><tr><td>Syrian Arab Republic</td><td>760</td><td>SY</td><td>SYR</td></tr><tr><td>Taiwan</td><td>158</td><td>TW</td><td>TWN</td></tr><tr><td>Tajikistan</td><td>762</td><td>TJ</td><td>TJK</td></tr><tr><td>Tanzania, United Republic of</td><td>834</td><td>TZ</td><td>TZA</td></tr><tr><td>Thailand</td><td>764</td><td>TH</td><td>THA</td></tr><tr><td>Timor-Leste</td><td>626</td><td>TP</td><td>TMP</td></tr><tr><td>Togo</td><td>768</td><td>TG</td><td>TGO</td></tr><tr><td>Tokelau</td><td>772</td><td>TK</td><td>TKL</td></tr><tr><td>Tonga</td><td>776</td><td>TO</td><td>TON</td></tr><tr><td>Trinidad and Tobago</td><td>780</td><td>TT</td><td>TTO</td></tr><tr><td>Tunisia</td><td>788</td><td>TN</td><td>TUN</td></tr><tr><td>Turkmenistan</td><td>795</td><td>TM</td><td>TKM</td></tr><tr><td>Turks and Caicos Is</td><td>796</td><td>TC</td><td>TCA</td></tr><tr><td>Turkey</td><td>792</td><td>TR</td><td>TUR</td></tr><tr><td>Tuvalu</td><td>798</td><td>TV</td><td>TUV</td></tr><tr><td>U.S. Minor Outlying Islands</td><td>581</td><td>UM</td><td>UMI</td></tr><tr><td>Uganda</td><td>800</td><td>UG</td><td>UGA</td></tr><tr><td>Ukraine</td><td>804</td><td>UA</td><td>UKR</td></tr><tr><td>United Arab Emirates</td><td>784</td><td>AE</td><td>ARE</td></tr><tr><td>United Kingdom</td><td>826</td><td>GB</td><td>GBR</td></tr><tr><td>United States</td><td>840</td><td>US</td><td>USA</td></tr><tr><td>Uruguay</td><td>858</td><td>UY</td><td>URY</td></tr><tr><td>Uzbekistan</td><td>860</td><td>UZ</td><td>UZB</td></tr><tr><td>Vanuatu</td><td>548</td><td>VU</td><td>VUT</td></tr><tr><td>Venezuela, Bolivarian Republic</td><td>862</td><td>VE</td><td>VEN</td></tr><tr><td>Viet Nam</td><td>704</td><td>VN</td><td>VNM</td></tr><tr><td>Virgin Islands, British</td><td>092</td><td>VG</td><td>VGB</td></tr><tr><td>Virgin Islands, U.S.</td><td>850</td><td>VI</td><td>VIR</td></tr><tr><td>Wallis and Futuna</td><td>876</td><td>WF</td><td>WLF</td></tr><tr><td>Western Sahara</td><td>732</td><td>EH</td><td>ESH</td></tr><tr><td>Yemen</td><td>887</td><td>YE</td><td>YE</td></tr><tr><td>Yemen</td><td>886</td><td>YE</td><td>YEM</td></tr><tr><td>Zambia</td><td>894</td><td>ZM</td><td>ZMB</td></tr><tr><td>Zimbabwe</td><td>716</td><td>ZW</td><td>ZWE</td></tr></tbody></table>\n",
    "\"\"\""
   ]
  },
  {
   "cell_type": "code",
   "execution_count": 11,
   "id": "f5073da3",
   "metadata": {},
   "outputs": [],
   "source": [
    "html_str = StringIO(iso_country_codes_table_html)\n",
    "df_country_codes = pd.read_html(html_str)[0]"
   ]
  },
  {
   "cell_type": "code",
   "execution_count": 12,
   "id": "a7a25211",
   "metadata": {},
   "outputs": [
    {
     "data": {
      "text/html": [
       "<div>\n",
       "<style scoped>\n",
       "    .dataframe tbody tr th:only-of-type {\n",
       "        vertical-align: middle;\n",
       "    }\n",
       "\n",
       "    .dataframe tbody tr th {\n",
       "        vertical-align: top;\n",
       "    }\n",
       "\n",
       "    .dataframe thead th {\n",
       "        text-align: right;\n",
       "    }\n",
       "</style>\n",
       "<table border=\"1\" class=\"dataframe\">\n",
       "  <thead>\n",
       "    <tr style=\"text-align: right;\">\n",
       "      <th></th>\n",
       "      <th>Country Name</th>\n",
       "      <th>Numeric Country Code</th>\n",
       "      <th>Alpha 2 Country Code</th>\n",
       "      <th>Alpha 3 Country Code</th>\n",
       "    </tr>\n",
       "  </thead>\n",
       "  <tbody>\n",
       "    <tr>\n",
       "      <th>0</th>\n",
       "      <td>Afghanistan</td>\n",
       "      <td>4</td>\n",
       "      <td>AF</td>\n",
       "      <td>AFG</td>\n",
       "    </tr>\n",
       "    <tr>\n",
       "      <th>1</th>\n",
       "      <td>Aland Islands</td>\n",
       "      <td>248</td>\n",
       "      <td>AX</td>\n",
       "      <td>ALA</td>\n",
       "    </tr>\n",
       "    <tr>\n",
       "      <th>2</th>\n",
       "      <td>Albania</td>\n",
       "      <td>8</td>\n",
       "      <td>AL</td>\n",
       "      <td>ALB</td>\n",
       "    </tr>\n",
       "    <tr>\n",
       "      <th>3</th>\n",
       "      <td>Algeria</td>\n",
       "      <td>12</td>\n",
       "      <td>DZ</td>\n",
       "      <td>DZA</td>\n",
       "    </tr>\n",
       "    <tr>\n",
       "      <th>4</th>\n",
       "      <td>American Samoa</td>\n",
       "      <td>16</td>\n",
       "      <td>AS</td>\n",
       "      <td>ASM</td>\n",
       "    </tr>\n",
       "    <tr>\n",
       "      <th>...</th>\n",
       "      <td>...</td>\n",
       "      <td>...</td>\n",
       "      <td>...</td>\n",
       "      <td>...</td>\n",
       "    </tr>\n",
       "    <tr>\n",
       "      <th>248</th>\n",
       "      <td>Western Sahara</td>\n",
       "      <td>732</td>\n",
       "      <td>EH</td>\n",
       "      <td>ESH</td>\n",
       "    </tr>\n",
       "    <tr>\n",
       "      <th>249</th>\n",
       "      <td>Yemen</td>\n",
       "      <td>887</td>\n",
       "      <td>YE</td>\n",
       "      <td>YE</td>\n",
       "    </tr>\n",
       "    <tr>\n",
       "      <th>250</th>\n",
       "      <td>Yemen</td>\n",
       "      <td>886</td>\n",
       "      <td>YE</td>\n",
       "      <td>YEM</td>\n",
       "    </tr>\n",
       "    <tr>\n",
       "      <th>251</th>\n",
       "      <td>Zambia</td>\n",
       "      <td>894</td>\n",
       "      <td>ZM</td>\n",
       "      <td>ZMB</td>\n",
       "    </tr>\n",
       "    <tr>\n",
       "      <th>252</th>\n",
       "      <td>Zimbabwe</td>\n",
       "      <td>716</td>\n",
       "      <td>ZW</td>\n",
       "      <td>ZWE</td>\n",
       "    </tr>\n",
       "  </tbody>\n",
       "</table>\n",
       "<p>253 rows × 4 columns</p>\n",
       "</div>"
      ],
      "text/plain": [
       "       Country Name  Numeric Country Code Alpha 2 Country Code  \\\n",
       "0       Afghanistan                     4                   AF   \n",
       "1     Aland Islands                   248                   AX   \n",
       "2           Albania                     8                   AL   \n",
       "3           Algeria                    12                   DZ   \n",
       "4    American Samoa                    16                   AS   \n",
       "..              ...                   ...                  ...   \n",
       "248  Western Sahara                   732                   EH   \n",
       "249           Yemen                   887                   YE   \n",
       "250           Yemen                   886                   YE   \n",
       "251          Zambia                   894                   ZM   \n",
       "252        Zimbabwe                   716                   ZW   \n",
       "\n",
       "    Alpha 3 Country Code  \n",
       "0                    AFG  \n",
       "1                    ALA  \n",
       "2                    ALB  \n",
       "3                    DZA  \n",
       "4                    ASM  \n",
       "..                   ...  \n",
       "248                  ESH  \n",
       "249                   YE  \n",
       "250                  YEM  \n",
       "251                  ZMB  \n",
       "252                  ZWE  \n",
       "\n",
       "[253 rows x 4 columns]"
      ]
     },
     "execution_count": 12,
     "metadata": {},
     "output_type": "execute_result"
    }
   ],
   "source": [
    "df_country_codes"
   ]
  },
  {
   "cell_type": "code",
   "execution_count": 13,
   "id": "96cfcf6e",
   "metadata": {},
   "outputs": [],
   "source": [
    "iso_currency_country_codes_table_html = \"\"\"\n",
    "<table><thead><tr><th>Currency</th><th>Numeric Code</th><th>Alpha 3 Code</th><th>Currency Exponent</th><th>Currency Details</th><th>Subunits</th></tr></thead><tbody><tr><td>Afghani</td><td>971</td><td>AFN</td><td>2</td><td>Afghani</td><td>Pul</td></tr><tr><td>Albanian Lek</td><td>8</td><td>ALL</td><td>2</td><td>Lekë</td><td>Qindarka</td></tr><tr><td>Algerian Dinar</td><td>12</td><td>DZD</td><td>2</td><td>Algerian Dinars</td><td>Santīm</td></tr><tr><td>Argentine Peso</td><td>32</td><td>ARS</td><td>2</td><td>Argentine Pesos</td><td>Centavos</td></tr><tr><td>Armenian Dram</td><td>51</td><td>AMD</td><td>2</td><td>Armenian Dram</td><td>Luma</td></tr><tr><td>Aruban Florin</td><td>533</td><td>AWG</td><td>2</td><td>Aruban Florin</td><td>Cents</td></tr><tr><td>Australian Dollar</td><td>36</td><td>AUD</td><td>2</td><td>Australian Dollars</td><td>Cents</td></tr><tr><td>Azerbaijanian Manat</td><td>944</td><td>AZN</td><td>2</td><td>Manats</td><td>Qəpik</td></tr><tr><td>Bahamian Dollar</td><td>44</td><td>BSD</td><td>2</td><td>Bahamian Dollars</td><td>Cents</td></tr><tr><td>Bahraini Dinar</td><td>48</td><td>BHD</td><td>3</td><td>Bahraini Dinars</td><td>Fils</td></tr><tr><td>Baht</td><td>764</td><td>THB</td><td>2</td><td>Baht</td><td>Satang</td></tr><tr><td>Balboa</td><td>590</td><td>PAB</td><td>2</td><td>Balboas</td><td>Centesimos</td></tr><tr><td>Bangladeshi Taka</td><td>50</td><td>BDT</td><td>2</td><td>Takas</td><td>Poishas</td></tr><tr><td>Barbados Dollar</td><td>52</td><td>BBD</td><td>2</td><td>Barbados Dollars</td><td>Cents</td></tr><tr><td>Belarussian Ruble</td><td>933</td><td>BYR</td><td>2</td><td>Belarussian Rubles</td><td>Kapyeyka</td></tr><tr><td>Belize Dollar</td><td>84</td><td>BZD</td><td>2</td><td>Belize Dollars</td><td>Cents</td></tr><tr><td>Bermudian Dollar</td><td>60</td><td>BMD</td><td>2</td><td>Bermudan Dollars</td><td>Cents</td></tr><tr><td>Bhutanese Ngultrum</td><td>64</td><td>BTN</td><td>2</td><td>Ngultrums</td><td>Chetrums</td></tr><tr><td>Bolivar</td><td>937</td><td>VEF</td><td>2</td><td>Bolivares</td><td>Centimos</td></tr><tr><td>Bolívar Soberano</td><td>928</td><td>VES</td><td>2</td><td>Bolívares&nbsp;Soberanos</td><td>Centimos</td></tr><tr><td>Boliviano</td><td>68</td><td>BOB</td><td>2</td><td>Bolivianos</td><td>Centavos</td></tr><tr><td>Botswana Pula</td><td>72</td><td>BWP</td><td>2</td><td>Pula</td><td>Thebe</td></tr><tr><td>Brazilian Real</td><td>986</td><td>BRL</td><td>2</td><td>Brazilian Real</td><td>Centavos</td></tr><tr><td>Brunei Dollar</td><td>96</td><td>BND</td><td>2</td><td>Brunei Dollars</td><td>Cents</td></tr><tr><td>Bulgarian Lev</td><td>975</td><td>BGN</td><td>2</td><td>Lev</td><td>Stotinka</td></tr><tr><td>Burundi Franc</td><td>108</td><td>BIF</td><td>0</td><td>Burundi Francs</td><td>Centimes</td></tr><tr><td>Canadian Dollar</td><td>124</td><td>CAD</td><td>2</td><td>Canadian Dollars</td><td>Cents</td></tr><tr><td>Cape Verde Escudo</td><td>132</td><td>CVE</td><td>2</td><td>Escudos</td><td>Centavos</td></tr><tr><td>Cayman Islands Dollar</td><td>136</td><td>KYD</td><td>2</td><td>Cayman Dollars</td><td>Cents</td></tr><tr><td>CFA Franc BCEAO</td><td>952</td><td>XOF</td><td>0</td><td>CFA Franc BCEAO</td><td>Centimes</td></tr><tr><td>CFA Franc BEAC</td><td>950</td><td>XAF</td><td>0</td><td>CFA Franc BEAC</td><td>Centimes</td></tr><tr><td>CFP Franc</td><td>953</td><td>XPF</td><td>0</td><td>CFP Francs</td><td>Centimes</td></tr><tr><td>Chilean Peso</td><td>152</td><td>CLP</td><td>0</td><td>Chilean Pesos</td><td>Centavos</td></tr><tr><td>CNH</td><td>157</td><td>CNH</td><td>2</td><td>Yuan</td><td>Fen</td></tr><tr><td>CNX</td><td>158</td><td>CNX</td><td>2</td><td>Cryptonex</td><td></td></tr><tr><td>Colombian Peso</td><td>170</td><td>COP</td><td>2</td><td>Colombian Pesos</td><td>Centavos</td></tr><tr><td>Comoro Franc</td><td>174</td><td>KMF</td><td>0</td><td>Comoro Francs</td><td>Centimes</td></tr><tr><td>Congolese Franc</td><td>976</td><td>CDF</td><td>2</td><td>Congolese Francs</td><td>Centimes</td></tr><tr><td>Convertible Mark</td><td>977</td><td>BAM</td><td>2</td><td>Convert. Marks</td><td>Fenings</td></tr><tr><td>Cordoba Oro</td><td>558</td><td>NIO</td><td>2</td><td>Cordobas</td><td>Centavos</td></tr><tr><td>Costa Rican Colon</td><td>188</td><td>CRC</td><td>2</td><td>Costa Rican Colones</td><td>Centimos</td></tr><tr><td>Croatian Kuna</td><td>191</td><td>HRK</td><td>2</td><td>Kuna</td><td>Lipa</td></tr><tr><td>Cuban Peso</td><td>192</td><td>CUP</td><td>2</td><td>Cuban Pesos</td><td>Centavos</td></tr><tr><td>Czech Koruna</td><td>203</td><td>CZK</td><td>2</td><td>Korun</td><td>Haler</td></tr><tr><td>Dalasi</td><td>270</td><td>GMD</td><td>2</td><td>Dalasi</td><td>Bututs</td></tr><tr><td>Danish Krone</td><td>208</td><td>DKK</td><td>2</td><td>Danish Kroner</td><td>Ore</td></tr><tr><td>Denar</td><td>807</td><td>MKD</td><td>2</td><td>Macedonian Denari</td><td>Deni</td></tr><tr><td>Djibouti Franc</td><td>262</td><td>DJF</td><td>0</td><td>Djibouti Francs</td><td>Centimes</td></tr><tr><td>Dobra</td><td>678</td><td>STD</td><td>2</td><td>Dobras</td><td>Centimos</td></tr><tr><td>Dobra</td><td>930</td><td>STN</td><td>2</td><td>Dobra</td><td>Centimos</td></tr><tr><td>Dominican Peso</td><td>214</td><td>DOP</td><td>2</td><td>Dominican Pesos</td><td>Centavos</td></tr><tr><td>Dong</td><td>704</td><td>VND</td><td>0</td><td>Dong</td><td>Hao</td></tr><tr><td>East Caribbean Dollar</td><td>951</td><td>XCD</td><td>2</td><td>East Caribbean Dollars</td><td>Cents</td></tr><tr><td>Egyptian Pound</td><td>818</td><td>EGP</td><td>2</td><td>Egyptian Pounds</td><td>Piastre</td></tr><tr><td>El Salvador Colon</td><td>222</td><td>SVC</td><td>2</td><td>El Salvador Colones</td><td>Centavos</td></tr><tr><td>ESA</td><td>996</td><td>ESA</td><td>2</td><td>Bolívares Soberanos</td><td>Céntimos</td></tr><tr><td>Ethiopian Birr</td><td>230</td><td>ETB</td><td>2</td><td>Birr</td><td>Santim</td></tr><tr><td>Euro</td><td>978</td><td>EUR</td><td>2</td><td>Euros</td><td>Cents</td></tr><tr><td>Falkland Islands Pound</td><td>238</td><td>FKP</td><td>2</td><td>Falkland Pounds</td><td>Pence</td></tr><tr><td>Fiji Dollar</td><td>242</td><td>FJD</td><td>2</td><td>Fiji Dollars</td><td>Cents</td></tr><tr><td>Forint</td><td>348</td><td>HUF</td><td>2</td><td>Forint</td><td>Filler</td></tr><tr><td>Ghana Cedi</td><td>936</td><td>GHS</td><td>2</td><td>Cedis</td><td>Pesewa</td></tr><tr><td>Gibraltar Pound</td><td>292</td><td>GIP</td><td>2</td><td>Gibraltar Pounds</td><td>Pence</td></tr><tr><td>Gourde</td><td>332</td><td>HTG</td><td>2</td><td>Gourdes</td><td>Centimes</td></tr><tr><td>Guarani</td><td>600</td><td>PYG</td><td>0</td><td>Guaranies</td><td>Centimos</td></tr><tr><td>Guinea Franc</td><td>324</td><td>GNF</td><td>0</td><td>Guinean Francs</td><td>Centimes</td></tr><tr><td>Guyana Dollar</td><td>328</td><td>GYD</td><td>2</td><td>Guyana Dollars</td><td>Cents</td></tr><tr><td>Hong Kong Dollar</td><td>344</td><td>HKD</td><td>2</td><td>H.K.Dollars</td><td>Cents</td></tr><tr><td>Hryvnia</td><td>980</td><td>UAH</td><td>2</td><td>Hryvnia</td><td>Kopiyka</td></tr><tr><td>Iceland Krona</td><td>352</td><td>ISK</td><td>2</td><td>Iceland Krone</td><td>Eyrir</td></tr><tr><td>Indian Rupee</td><td>356</td><td>INR</td><td>2</td><td>Indian Rupees</td><td>Paise</td></tr><tr><td>Iraqi Dinar</td><td>368</td><td>IQD</td><td>3</td><td>Iraqi Dinars</td><td>Fils</td></tr><tr><td>Jamaican Dollar</td><td>388</td><td>JMD</td><td>2</td><td>Jamaican Dollars</td><td>Cents</td></tr><tr><td>Jordanian Dinar</td><td>400</td><td>JOD</td><td>3</td><td>Jordanian Dinars</td><td>Fils</td></tr><tr><td>Kenyan Shilling</td><td>404</td><td>KES</td><td>2</td><td>Kenyan Shillings</td><td>Cents</td></tr><tr><td>Kina</td><td>598</td><td>PGK</td><td>2</td><td>Kina</td><td>Toea</td></tr><tr><td>Kip</td><td>418</td><td>LAK</td><td>2</td><td>Kip</td><td>Att</td></tr><tr><td>Kuwaiti Dinar</td><td>414</td><td>KWD</td><td>3</td><td>Kuwaiti Dinars</td><td>Fils</td></tr><tr><td>Kwacha</td><td>454</td><td>MWK</td><td>2</td><td>Malawi Kwacha</td><td>Tambala</td></tr><tr><td>Kwanza</td><td>973</td><td>AOA</td><td>2</td><td>Kwansa</td><td>Cents</td></tr><tr><td>Kyat</td><td>104</td><td>MMK</td><td>2</td><td>Kyats</td><td>Pyas</td></tr><tr><td>Kyrgyzstan Soma</td><td>417</td><td>KGS</td><td>2</td><td>Som</td><td>Tyiyn</td></tr><tr><td>Lari</td><td>981</td><td>GEL</td><td>2</td><td>Georgian Lari</td><td>Tetri</td></tr><tr><td>Lebanese Pound</td><td>422</td><td>LBP</td><td>2</td><td>Lebanese Pounds</td><td>Qirsh</td></tr><tr><td>Lempira</td><td>340</td><td>HNL</td><td>2</td><td>Lempiras</td><td>Centavos</td></tr><tr><td>Leone</td><td>694</td><td>SLL</td><td>2</td><td>Leones</td><td>Cents</td></tr><tr><td>Liberian Dollar</td><td>430</td><td>LRD</td><td>2</td><td>Liberian Dollars</td><td>Cents</td></tr><tr><td>Libyan Dinar</td><td>434</td><td>LYD</td><td>3</td><td>Libyan Dinars</td><td>Dirhams</td></tr><tr><td>Lilangeni</td><td>748</td><td>SZL</td><td>2</td><td>Lilangeni</td><td>Cents</td></tr><tr><td>Loti</td><td>426</td><td>LSL</td><td>2</td><td>Maloti</td><td>Lisente</td></tr><tr><td>Malagasy Ariary</td><td>969</td><td>MGA</td><td>2</td><td>Madagasc.Ariary</td><td>Centimes</td></tr><tr><td>Malaysian Ringgit</td><td>458</td><td>MYR</td><td>2</td><td>Ringgit</td><td>Sen</td></tr><tr><td>Mauritius Rupee</td><td>480</td><td>MUR</td><td>2</td><td>Mauritian Rupees</td><td>Cents</td></tr><tr><td>Mexican Peso</td><td>484</td><td>MXN</td><td>2</td><td>Mexican Pesos</td><td>Centavos</td></tr><tr><td>Moldovan Leu</td><td>498</td><td>MDL</td><td>2</td><td>Moldovan Lei</td><td>Ban</td></tr><tr><td>Moroccan Dirham</td><td>504</td><td>MAD</td><td>2</td><td>Moroccan Dirhams</td><td>Centimes</td></tr><tr><td>Mozambique Metical</td><td>943</td><td>MZN</td><td>2</td><td>Meticais</td><td>Centavos</td></tr><tr><td>Naira</td><td>566</td><td>NGN</td><td>2</td><td>Naira</td><td>Kobo</td></tr><tr><td>Namibia Dollar</td><td>516</td><td>NAD</td><td>2</td><td>Namibian Dollars</td><td>Cents</td></tr><tr><td>Nepalese Rupee</td><td>524</td><td>NPR</td><td>2</td><td>Nepalese Rupees</td><td>Paise</td></tr><tr><td>Netherlands Antillean Guilder</td><td>532</td><td>ANG</td><td>2</td><td>Netherlands Antillean Guilder</td><td>Cents</td></tr><tr><td>New Israeli Sheqel</td><td>376</td><td>ILS</td><td>2</td><td>Shekels</td><td>Agoras</td></tr><tr><td>New Romanian Leu</td><td>946</td><td>RON</td><td>2</td><td>Romanian Lei</td><td>Bani</td></tr><tr><td>New Taiwan Dollar</td><td>901</td><td>TWD</td><td>2</td><td>Taiwan Dollars</td><td>Cents</td></tr><tr><td>New Zealand Dollar</td><td>554</td><td>NZD</td><td>2</td><td>N.Zeal.Dollars</td><td>Cents</td></tr><tr><td>Norwegian Krone</td><td>578</td><td>NOK</td><td>2</td><td>Norwegian Kroner</td><td>Ore</td></tr><tr><td>Nuevo Sol</td><td>604</td><td>PEN</td><td>2</td><td>Sols</td><td>Centimos</td></tr><tr><td>Ouguiya</td><td>478</td><td>MRO</td><td>2</td><td>Ouguiya</td><td>Khoums</td></tr><tr><td>Ouguiya</td><td>929</td><td>MRU</td><td>2</td><td>Ouguiya</td><td>khoums</td></tr><tr><td>PaÃ¢â‚¬â„¢anga</td><td>776</td><td>TOP</td><td>2</td><td>Paanga</td><td>Seniti</td></tr><tr><td>Pakistan Rupee</td><td>586</td><td>PKR</td><td>2</td><td>Pakistani Rupees</td><td>Paise</td></tr><tr><td>Pataca</td><td>446</td><td>MOP</td><td>2</td><td>Patacas</td><td>Avos</td></tr><tr><td>Peso Uruguayo</td><td>858</td><td>UYU</td><td>2</td><td>Pesos Uruguayos</td><td>Centesimo</td></tr><tr><td>Philippine Peso</td><td>608</td><td>PHP</td><td>2</td><td>Philippine Pesos</td><td>Centavos</td></tr><tr><td>Pound Sterling</td><td>826</td><td>GBP</td><td>2</td><td>Pounds</td><td>Pence</td></tr><tr><td>Qatari Rial</td><td>634</td><td>QAR</td><td>2</td><td>Qatari Rials</td><td>Dirhams</td></tr><tr><td>Quetzal</td><td>320</td><td>GTQ</td><td>2</td><td>Quetzales</td><td>Centavos</td></tr><tr><td>Rand</td><td>710</td><td>ZAR</td><td>2</td><td>Rand</td><td>Cents</td></tr><tr><td>Rial Omani</td><td>512</td><td>OMR</td><td>3</td><td>Omani Rials</td><td>Baisa</td></tr><tr><td>Riel</td><td>116</td><td>KHR</td><td>2</td><td>Riels</td><td>Sens</td></tr><tr><td>Rufiyaa</td><td>462</td><td>MVR</td><td>2</td><td>Rufiyaa</td><td>Laari</td></tr><tr><td>Rupiah</td><td>360</td><td>IDR</td><td>2</td><td>Rupiah</td><td>Sen</td></tr><tr><td>Russian Ruble</td><td>643</td><td>RUB</td><td>2</td><td>Rubles</td><td>Kopeyka</td></tr><tr><td>Rwanda Franc</td><td>646</td><td>RWF</td><td>0</td><td>Rwandan Francs</td><td>Centimes</td></tr><tr><td>Saint Helena Pound</td><td>654</td><td>SHP</td><td>2</td><td>St.Helena Pounds</td><td>Pence</td></tr><tr><td>Saudi Riyal</td><td>682</td><td>SAR</td><td>2</td><td>Saudi Riyals</td><td>Halala</td></tr><tr><td>Serbian Dinar</td><td>941</td><td>RSD</td><td>2</td><td>Serbian Dinars</td><td>Paras</td></tr><tr><td>Seychelles Rupee</td><td>690</td><td>SCR</td><td>2</td><td>Seychelles Rupees</td><td>Cents</td></tr><tr><td>Singapore Dollar</td><td>702</td><td>SGD</td><td>2</td><td>Singapore Dollars</td><td>Cents</td></tr><tr><td>Solomon Islands dollar</td><td>90</td><td>SBD</td><td>2</td><td>Sol.Isl.Dollars</td><td>Cents</td></tr><tr><td>Somali Shilling</td><td>706</td><td>SOS</td><td>2</td><td>Somalian Shillings</td><td>Senti</td></tr><tr><td>Somoni</td><td>972</td><td>TJS</td><td>2</td><td>Somoni</td><td>Diram</td></tr><tr><td>South Sudanese Pound</td><td>728</td><td>SSP</td><td>2</td><td>South Sudanese Pounds</td><td>Piasters</td></tr><tr><td>Sri Lanka Rupee</td><td>144</td><td>LKR</td><td>2</td><td>Lankan Rupee</td><td>Cents</td></tr><tr><td>Sudanese Pound</td><td>938</td><td>SDG</td><td>2</td><td>Sudanese Pound</td><td>Qirsh (Piastre)</td></tr><tr><td>Surinam Dollar</td><td>968</td><td>SRD</td><td>2</td><td>Surinam Dollars</td><td>Cents</td></tr><tr><td>Swedish Krona</td><td>752</td><td>SEK</td><td>2</td><td>Swedish Kronor</td><td>Ore</td></tr><tr><td>Swiss Franc</td><td>756</td><td>CHF</td><td>2</td><td>Swiss Francs</td><td>Rappen</td></tr><tr><td>Tala</td><td>882</td><td>WST</td><td>2</td><td>Tala</td><td>Sene</td></tr><tr><td>Tanzanian Shilling</td><td>834</td><td>TZS</td><td>2</td><td>Tanzanian Shilling</td><td>Cents</td></tr><tr><td>Tenge</td><td>398</td><td>KZT</td><td>2</td><td>Tenge</td><td>Tiyin</td></tr><tr><td>Trinidad and Tobago Dollar</td><td>780</td><td>TTD</td><td>2</td><td>Trinidad and Tobago Dollars</td><td>Cents</td></tr><tr><td>Tugrik</td><td>496</td><td>MNT</td><td>2</td><td>Tugrik</td><td>Mongo</td></tr><tr><td>Tunisian Dinar</td><td>788</td><td>TND</td><td>3</td><td>Tunisian Dinars</td><td>Millimes</td></tr><tr><td>Turkish Lira</td><td>949</td><td>TRY</td><td>2</td><td>Lira</td><td>Kurus</td></tr><tr><td>Turkmenistan New Manat</td><td>934</td><td>TMT</td><td>2</td><td>Manats</td><td>Tenge</td></tr><tr><td>UAE Dirham</td><td>784</td><td>AED</td><td>2</td><td>UAE Dirhams</td><td>Fils</td></tr><tr><td>Uganda Shilling</td><td>800</td><td>UGX</td><td>0</td><td>Ugandan Shillings</td><td>Cents</td></tr><tr><td>Unidades de Fomento</td><td>990</td><td>CLF</td><td>0</td><td>Unidades de Fomento</td><td></td></tr><tr><td>US Dollar</td><td>840</td><td>USD</td><td>2</td><td>US Dollars</td><td>Cents</td></tr><tr><td>Uzbekistan Sum</td><td>860</td><td>UZS</td><td>2</td><td>Som</td><td>Tiyin</td></tr><tr><td>Vatu</td><td>548</td><td>VUV</td><td>0</td><td>Vatu</td><td></td></tr><tr><td>Won</td><td>410</td><td>KRW</td><td>0</td><td>Won</td><td>Jeon</td></tr><tr><td>Yemeni Rial</td><td>886</td><td>YER</td><td>2</td><td>Yemeni Rials</td><td>Fils</td></tr><tr><td>Yen</td><td>392</td><td>JPY</td><td>0</td><td>Yen</td><td>Sen</td></tr><tr><td>Yuan Renminbi</td><td>156</td><td>CNY</td><td>2</td><td>Renminbi</td><td>Fen</td></tr><tr><td>Zambian Kwacha</td><td>967</td><td>ZMW</td><td>2</td><td>Zambian Kwacha</td><td>Ngwee</td></tr><tr><td>Zloty</td><td>985</td><td>PLN</td><td>2</td><td>Zloty</td><td>Grosz</td></tr></tbody></table>\n",
    "\"\"\""
   ]
  },
  {
   "cell_type": "code",
   "execution_count": 15,
   "id": "731d7933",
   "metadata": {},
   "outputs": [],
   "source": [
    "html_parser = StringIO(iso_currency_country_codes_table_html)\n",
    "df_currency_country_codes = pd.read_html(html_parser)[0]"
   ]
  },
  {
   "cell_type": "code",
   "execution_count": 17,
   "id": "f0dddf88",
   "metadata": {},
   "outputs": [
    {
     "data": {
      "text/html": [
       "<div>\n",
       "<style scoped>\n",
       "    .dataframe tbody tr th:only-of-type {\n",
       "        vertical-align: middle;\n",
       "    }\n",
       "\n",
       "    .dataframe tbody tr th {\n",
       "        vertical-align: top;\n",
       "    }\n",
       "\n",
       "    .dataframe thead th {\n",
       "        text-align: right;\n",
       "    }\n",
       "</style>\n",
       "<table border=\"1\" class=\"dataframe\">\n",
       "  <thead>\n",
       "    <tr style=\"text-align: right;\">\n",
       "      <th></th>\n",
       "      <th>Currency</th>\n",
       "      <th>Numeric Code</th>\n",
       "      <th>Alpha 3 Code</th>\n",
       "      <th>Currency Exponent</th>\n",
       "      <th>Currency Details</th>\n",
       "      <th>Subunits</th>\n",
       "    </tr>\n",
       "  </thead>\n",
       "  <tbody>\n",
       "    <tr>\n",
       "      <th>0</th>\n",
       "      <td>Afghani</td>\n",
       "      <td>971</td>\n",
       "      <td>AFN</td>\n",
       "      <td>2</td>\n",
       "      <td>Afghani</td>\n",
       "      <td>Pul</td>\n",
       "    </tr>\n",
       "    <tr>\n",
       "      <th>1</th>\n",
       "      <td>Albanian Lek</td>\n",
       "      <td>8</td>\n",
       "      <td>ALL</td>\n",
       "      <td>2</td>\n",
       "      <td>Lekë</td>\n",
       "      <td>Qindarka</td>\n",
       "    </tr>\n",
       "    <tr>\n",
       "      <th>2</th>\n",
       "      <td>Algerian Dinar</td>\n",
       "      <td>12</td>\n",
       "      <td>DZD</td>\n",
       "      <td>2</td>\n",
       "      <td>Algerian Dinars</td>\n",
       "      <td>Santīm</td>\n",
       "    </tr>\n",
       "    <tr>\n",
       "      <th>3</th>\n",
       "      <td>Argentine Peso</td>\n",
       "      <td>32</td>\n",
       "      <td>ARS</td>\n",
       "      <td>2</td>\n",
       "      <td>Argentine Pesos</td>\n",
       "      <td>Centavos</td>\n",
       "    </tr>\n",
       "    <tr>\n",
       "      <th>4</th>\n",
       "      <td>Armenian Dram</td>\n",
       "      <td>51</td>\n",
       "      <td>AMD</td>\n",
       "      <td>2</td>\n",
       "      <td>Armenian Dram</td>\n",
       "      <td>Luma</td>\n",
       "    </tr>\n",
       "    <tr>\n",
       "      <th>...</th>\n",
       "      <td>...</td>\n",
       "      <td>...</td>\n",
       "      <td>...</td>\n",
       "      <td>...</td>\n",
       "      <td>...</td>\n",
       "      <td>...</td>\n",
       "    </tr>\n",
       "    <tr>\n",
       "      <th>153</th>\n",
       "      <td>Yemeni Rial</td>\n",
       "      <td>886</td>\n",
       "      <td>YER</td>\n",
       "      <td>2</td>\n",
       "      <td>Yemeni Rials</td>\n",
       "      <td>Fils</td>\n",
       "    </tr>\n",
       "    <tr>\n",
       "      <th>154</th>\n",
       "      <td>Yen</td>\n",
       "      <td>392</td>\n",
       "      <td>JPY</td>\n",
       "      <td>0</td>\n",
       "      <td>Yen</td>\n",
       "      <td>Sen</td>\n",
       "    </tr>\n",
       "    <tr>\n",
       "      <th>155</th>\n",
       "      <td>Yuan Renminbi</td>\n",
       "      <td>156</td>\n",
       "      <td>CNY</td>\n",
       "      <td>2</td>\n",
       "      <td>Renminbi</td>\n",
       "      <td>Fen</td>\n",
       "    </tr>\n",
       "    <tr>\n",
       "      <th>156</th>\n",
       "      <td>Zambian Kwacha</td>\n",
       "      <td>967</td>\n",
       "      <td>ZMW</td>\n",
       "      <td>2</td>\n",
       "      <td>Zambian Kwacha</td>\n",
       "      <td>Ngwee</td>\n",
       "    </tr>\n",
       "    <tr>\n",
       "      <th>157</th>\n",
       "      <td>Zloty</td>\n",
       "      <td>985</td>\n",
       "      <td>PLN</td>\n",
       "      <td>2</td>\n",
       "      <td>Zloty</td>\n",
       "      <td>Grosz</td>\n",
       "    </tr>\n",
       "  </tbody>\n",
       "</table>\n",
       "<p>158 rows × 6 columns</p>\n",
       "</div>"
      ],
      "text/plain": [
       "           Currency  Numeric Code Alpha 3 Code  Currency Exponent  \\\n",
       "0           Afghani           971          AFN                  2   \n",
       "1      Albanian Lek             8          ALL                  2   \n",
       "2    Algerian Dinar            12          DZD                  2   \n",
       "3    Argentine Peso            32          ARS                  2   \n",
       "4     Armenian Dram            51          AMD                  2   \n",
       "..              ...           ...          ...                ...   \n",
       "153     Yemeni Rial           886          YER                  2   \n",
       "154             Yen           392          JPY                  0   \n",
       "155   Yuan Renminbi           156          CNY                  2   \n",
       "156  Zambian Kwacha           967          ZMW                  2   \n",
       "157           Zloty           985          PLN                  2   \n",
       "\n",
       "    Currency Details  Subunits  \n",
       "0            Afghani       Pul  \n",
       "1               Lekë  Qindarka  \n",
       "2    Algerian Dinars    Santīm  \n",
       "3    Argentine Pesos  Centavos  \n",
       "4      Armenian Dram      Luma  \n",
       "..               ...       ...  \n",
       "153     Yemeni Rials      Fils  \n",
       "154              Yen       Sen  \n",
       "155         Renminbi       Fen  \n",
       "156   Zambian Kwacha     Ngwee  \n",
       "157            Zloty     Grosz  \n",
       "\n",
       "[158 rows x 6 columns]"
      ]
     },
     "execution_count": 17,
     "metadata": {},
     "output_type": "execute_result"
    }
   ],
   "source": [
    "df_currency_country_codes"
   ]
  },
  {
   "cell_type": "code",
   "execution_count": 18,
   "id": "adff4f98",
   "metadata": {},
   "outputs": [],
   "source": [
    "def show_df_definition(df:pd.DataFrame)->None:\n",
    "    print(20 * \"=\")\n",
    "    print(\"COLUMNS\")\n",
    "    print(df.columns)\n",
    "    print(20 * \"=\")\n",
    "    print(f\"SHAPE: {df.shape}\")"
   ]
  },
  {
   "cell_type": "code",
   "execution_count": 19,
   "id": "5ee5d028",
   "metadata": {},
   "outputs": [
    {
     "name": "stdout",
     "output_type": "stream",
     "text": [
      "====================\n",
      "COLUMNS\n",
      "Index(['Country Name', 'Numeric Country Code', 'Alpha 2 Country Code',\n",
      "       'Alpha 3 Country Code'],\n",
      "      dtype='object')\n",
      "====================\n",
      "SHAPE: (253, 4)\n"
     ]
    }
   ],
   "source": [
    "show_df_definition(df_country_codes)"
   ]
  },
  {
   "cell_type": "code",
   "execution_count": 20,
   "id": "8de5ea03",
   "metadata": {},
   "outputs": [
    {
     "name": "stdout",
     "output_type": "stream",
     "text": [
      "====================\n",
      "COLUMNS\n",
      "Index(['Currency', 'Numeric Code', 'Alpha 3 Code', 'Currency Exponent',\n",
      "       'Currency Details', 'Subunits'],\n",
      "      dtype='object')\n",
      "====================\n",
      "SHAPE: (158, 6)\n"
     ]
    }
   ],
   "source": [
    "show_df_definition(df_currency_country_codes)"
   ]
  },
  {
   "cell_type": "code",
   "execution_count": 21,
   "id": "4ff70ddb",
   "metadata": {},
   "outputs": [
    {
     "data": {
      "text/html": [
       "<div>\n",
       "<style scoped>\n",
       "    .dataframe tbody tr th:only-of-type {\n",
       "        vertical-align: middle;\n",
       "    }\n",
       "\n",
       "    .dataframe tbody tr th {\n",
       "        vertical-align: top;\n",
       "    }\n",
       "\n",
       "    .dataframe thead th {\n",
       "        text-align: right;\n",
       "    }\n",
       "</style>\n",
       "<table border=\"1\" class=\"dataframe\">\n",
       "  <thead>\n",
       "    <tr style=\"text-align: right;\">\n",
       "      <th></th>\n",
       "      <th>Country Name</th>\n",
       "      <th>Numeric Country Code</th>\n",
       "      <th>Alpha 2 Country Code</th>\n",
       "      <th>Alpha 3 Country Code</th>\n",
       "    </tr>\n",
       "  </thead>\n",
       "  <tbody>\n",
       "    <tr>\n",
       "      <th>0</th>\n",
       "      <td>Afghanistan</td>\n",
       "      <td>4</td>\n",
       "      <td>AF</td>\n",
       "      <td>AFG</td>\n",
       "    </tr>\n",
       "    <tr>\n",
       "      <th>1</th>\n",
       "      <td>Aland Islands</td>\n",
       "      <td>248</td>\n",
       "      <td>AX</td>\n",
       "      <td>ALA</td>\n",
       "    </tr>\n",
       "  </tbody>\n",
       "</table>\n",
       "</div>"
      ],
      "text/plain": [
       "    Country Name  Numeric Country Code Alpha 2 Country Code  \\\n",
       "0    Afghanistan                     4                   AF   \n",
       "1  Aland Islands                   248                   AX   \n",
       "\n",
       "  Alpha 3 Country Code  \n",
       "0                  AFG  \n",
       "1                  ALA  "
      ]
     },
     "execution_count": 21,
     "metadata": {},
     "output_type": "execute_result"
    }
   ],
   "source": [
    "df_country_codes.head(2)"
   ]
  },
  {
   "cell_type": "code",
   "execution_count": 22,
   "id": "a3ed567a",
   "metadata": {},
   "outputs": [
    {
     "data": {
      "text/html": [
       "<div>\n",
       "<style scoped>\n",
       "    .dataframe tbody tr th:only-of-type {\n",
       "        vertical-align: middle;\n",
       "    }\n",
       "\n",
       "    .dataframe tbody tr th {\n",
       "        vertical-align: top;\n",
       "    }\n",
       "\n",
       "    .dataframe thead th {\n",
       "        text-align: right;\n",
       "    }\n",
       "</style>\n",
       "<table border=\"1\" class=\"dataframe\">\n",
       "  <thead>\n",
       "    <tr style=\"text-align: right;\">\n",
       "      <th></th>\n",
       "      <th>Currency</th>\n",
       "      <th>Numeric Code</th>\n",
       "      <th>Alpha 3 Code</th>\n",
       "      <th>Currency Exponent</th>\n",
       "      <th>Currency Details</th>\n",
       "      <th>Subunits</th>\n",
       "    </tr>\n",
       "  </thead>\n",
       "  <tbody>\n",
       "    <tr>\n",
       "      <th>0</th>\n",
       "      <td>Afghani</td>\n",
       "      <td>971</td>\n",
       "      <td>AFN</td>\n",
       "      <td>2</td>\n",
       "      <td>Afghani</td>\n",
       "      <td>Pul</td>\n",
       "    </tr>\n",
       "    <tr>\n",
       "      <th>1</th>\n",
       "      <td>Albanian Lek</td>\n",
       "      <td>8</td>\n",
       "      <td>ALL</td>\n",
       "      <td>2</td>\n",
       "      <td>Lekë</td>\n",
       "      <td>Qindarka</td>\n",
       "    </tr>\n",
       "  </tbody>\n",
       "</table>\n",
       "</div>"
      ],
      "text/plain": [
       "       Currency  Numeric Code Alpha 3 Code  Currency Exponent  \\\n",
       "0       Afghani           971          AFN                  2   \n",
       "1  Albanian Lek             8          ALL                  2   \n",
       "\n",
       "  Currency Details  Subunits  \n",
       "0          Afghani       Pul  \n",
       "1             Lekë  Qindarka  "
      ]
     },
     "execution_count": 22,
     "metadata": {},
     "output_type": "execute_result"
    }
   ],
   "source": [
    "df_currency_country_codes.head(2)"
   ]
  },
  {
   "cell_type": "code",
   "execution_count": 23,
   "id": "b2d644b7",
   "metadata": {},
   "outputs": [
    {
     "data": {
      "text/plain": [
       "33"
      ]
     },
     "execution_count": 23,
     "metadata": {},
     "output_type": "execute_result"
    }
   ],
   "source": [
    "text = \"North America and Central America\"\n",
    "len(text)"
   ]
  },
  {
   "cell_type": "markdown",
   "id": "2c905f1e",
   "metadata": {},
   "source": [
    "## Africa"
   ]
  },
  {
   "cell_type": "code",
   "execution_count": 25,
   "id": "3d95267a",
   "metadata": {},
   "outputs": [],
   "source": [
    "africa_html = \"\"\"\n",
    "<table><thead><tr><th style=\"text-align: left;\">Currency code</th><th style=\"text-align: left;\">Currency name</th><th style=\"text-align: left;\">ISO2 name</th><th style=\"text-align: left;\">Country name</th><th style=\"text-align: left;\">Phone code</th></tr></thead><tbody><tr><td style=\"text-align: left;\">DZD</td><td style=\"text-align: left;\">Algerian Dinar</td><td style=\"text-align: left;\">DZ</td><td style=\"text-align: left;\">Algeria</td><td style=\"text-align: left;\">213</td></tr><tr><td style=\"text-align: left;\">AOA</td><td style=\"text-align: left;\">Angolan Kwanza</td><td style=\"text-align: left;\">AO</td><td style=\"text-align: left;\">Angola</td><td style=\"text-align: left;\">244</td></tr><tr><td style=\"text-align: left;\">XOF</td><td style=\"text-align: left;\">CFA Franc BCEAO</td><td style=\"text-align: left;\">BJ</td><td style=\"text-align: left;\">Benin</td><td style=\"text-align: left;\">229</td></tr><tr><td style=\"text-align: left;\">BWP</td><td style=\"text-align: left;\">Botswana Pula</td><td style=\"text-align: left;\">BW</td><td style=\"text-align: left;\">Botswana</td><td style=\"text-align: left;\">267</td></tr><tr><td style=\"text-align: left;\">XOF</td><td style=\"text-align: left;\">CFA Franc BCEAO</td><td style=\"text-align: left;\">BF</td><td style=\"text-align: left;\">Burkina Faso</td><td style=\"text-align: left;\">226</td></tr><tr><td style=\"text-align: left;\">BIF</td><td style=\"text-align: left;\">Burundian Franc</td><td style=\"text-align: left;\">BI</td><td style=\"text-align: left;\">Burundi</td><td style=\"text-align: left;\">257</td></tr><tr><td style=\"text-align: left;\">XAF</td><td style=\"text-align: left;\">CFA Franc BEAC</td><td style=\"text-align: left;\">CM</td><td style=\"text-align: left;\">Cameroon</td><td style=\"text-align: left;\">237</td></tr><tr><td style=\"text-align: left;\">CVE</td><td style=\"text-align: left;\">Cape Verdean Escudo</td><td style=\"text-align: left;\">CV</td><td style=\"text-align: left;\">Cape Verde</td><td style=\"text-align: left;\">238</td></tr><tr><td style=\"text-align: left;\">XAF</td><td style=\"text-align: left;\">CFA Franc BEAC</td><td style=\"text-align: left;\">CF</td><td style=\"text-align: left;\">Central African Republic</td><td style=\"text-align: left;\">236</td></tr><tr><td style=\"text-align: left;\">XAF</td><td style=\"text-align: left;\">CFA Franc BEAC</td><td style=\"text-align: left;\">TD</td><td style=\"text-align: left;\">Chad</td><td style=\"text-align: left;\">235</td></tr><tr><td style=\"text-align: left;\">KMF</td><td style=\"text-align: left;\">Comorian Franc</td><td style=\"text-align: left;\">KM</td><td style=\"text-align: left;\">Comoros</td><td style=\"text-align: left;\">269</td></tr><tr><td style=\"text-align: left;\">XAF</td><td style=\"text-align: left;\">CFA Franc BEAC</td><td style=\"text-align: left;\">CG</td><td style=\"text-align: left;\">Congo</td><td style=\"text-align: left;\">242</td></tr><tr><td style=\"text-align: left;\">CDF</td><td style=\"text-align: left;\">Congolese Franc</td><td style=\"text-align: left;\">CD</td><td style=\"text-align: left;\">Congo, The Democratic Republic of the</td><td style=\"text-align: left;\">243</td></tr><tr><td style=\"text-align: left;\">XOF</td><td style=\"text-align: left;\">CFA Franc BCEAO</td><td style=\"text-align: left;\">CI</td><td style=\"text-align: left;\">Cote D'Ivoire</td><td style=\"text-align: left;\">225</td></tr><tr><td style=\"text-align: left;\">DJF</td><td style=\"text-align: left;\">Djiboutian Franc</td><td style=\"text-align: left;\">DJ</td><td style=\"text-align: left;\">Djibouti</td><td style=\"text-align: left;\">253</td></tr><tr><td style=\"text-align: left;\">EGP</td><td style=\"text-align: left;\">Egypt Pound</td><td style=\"text-align: left;\">EG</td><td style=\"text-align: left;\">Egypt</td><td style=\"text-align: left;\">20</td></tr><tr><td style=\"text-align: left;\">XAF</td><td style=\"text-align: left;\">CFA Franc BEAC</td><td style=\"text-align: left;\">GQ</td><td style=\"text-align: left;\">Equatorial Guinea</td><td style=\"text-align: left;\">240</td></tr><tr><td style=\"text-align: left;\">ERN</td><td style=\"text-align: left;\">Eritrean Nakfa</td><td style=\"text-align: left;\">ER</td><td style=\"text-align: left;\">Eritrea</td><td style=\"text-align: left;\">291</td></tr><tr><td style=\"text-align: left;\">ETB</td><td style=\"text-align: left;\">Ethiopian Birr</td><td style=\"text-align: left;\">ET</td><td style=\"text-align: left;\">Ethiopia</td><td style=\"text-align: left;\">251</td></tr><tr><td style=\"text-align: left;\">XAF</td><td style=\"text-align: left;\">CFA Franc BEAC</td><td style=\"text-align: left;\">GA</td><td style=\"text-align: left;\">Gabon</td><td style=\"text-align: left;\">241</td></tr><tr><td style=\"text-align: left;\">GMD</td><td style=\"text-align: left;\">Gambian Dalasi</td><td style=\"text-align: left;\">GM</td><td style=\"text-align: left;\">Gambia</td><td style=\"text-align: left;\">220</td></tr><tr><td style=\"text-align: left;\">GHS</td><td style=\"text-align: left;\">Ghanaian Cedi</td><td style=\"text-align: left;\">GH</td><td style=\"text-align: left;\">Ghana</td><td style=\"text-align: left;\">233</td></tr><tr><td style=\"text-align: left;\">GNF</td><td style=\"text-align: left;\">Guinean Franc</td><td style=\"text-align: left;\">GN</td><td style=\"text-align: left;\">Guinea</td><td style=\"text-align: left;\">224</td></tr><tr><td style=\"text-align: left;\">XOF</td><td style=\"text-align: left;\">CFA Franc BCEAO</td><td style=\"text-align: left;\">GW</td><td style=\"text-align: left;\">Guinea-Bissau</td><td style=\"text-align: left;\">245</td></tr><tr><td style=\"text-align: left;\">KES</td><td style=\"text-align: left;\">Kenyan Shilling</td><td style=\"text-align: left;\">KE</td><td style=\"text-align: left;\">Kenya</td><td style=\"text-align: left;\">254</td></tr><tr><td style=\"text-align: left;\">LSL</td><td style=\"text-align: left;\">Lesotho Loti</td><td style=\"text-align: left;\">LS</td><td style=\"text-align: left;\">Lesotho</td><td style=\"text-align: left;\">266</td></tr><tr><td style=\"text-align: left;\">LRD</td><td style=\"text-align: left;\">Liberia Dollar</td><td style=\"text-align: left;\">LR</td><td style=\"text-align: left;\">Liberia</td><td style=\"text-align: left;\">231</td></tr><tr><td style=\"text-align: left;\">LYD</td><td style=\"text-align: left;\">Libyan Dinar</td><td style=\"text-align: left;\">LY</td><td style=\"text-align: left;\">Libyan Arab Jamahiriya</td><td style=\"text-align: left;\">218</td></tr><tr><td style=\"text-align: left;\">MGA</td><td style=\"text-align: left;\">Malagasy Ariary</td><td style=\"text-align: left;\">MG</td><td style=\"text-align: left;\">Madagascar</td><td style=\"text-align: left;\">261</td></tr><tr><td style=\"text-align: left;\">MWK</td><td style=\"text-align: left;\">Malawian Kwacha</td><td style=\"text-align: left;\">MW</td><td style=\"text-align: left;\">Malawi</td><td style=\"text-align: left;\">265</td></tr><tr><td style=\"text-align: left;\">XOF</td><td style=\"text-align: left;\">CFA Franc BCEAO</td><td style=\"text-align: left;\">ML</td><td style=\"text-align: left;\">Mali</td><td style=\"text-align: left;\">223</td></tr><tr><td style=\"text-align: left;\">MRO</td><td style=\"text-align: left;\">Mauritanian Ouguiya (pre2018)</td><td style=\"text-align: left;\">MR</td><td style=\"text-align: left;\">Mauritania</td><td style=\"text-align: left;\">222</td></tr><tr><td style=\"text-align: left;\">MUR</td><td style=\"text-align: left;\">Mauritius Rupee</td><td style=\"text-align: left;\">MU</td><td style=\"text-align: left;\">Mauritius</td><td style=\"text-align: left;\">230</td></tr><tr><td style=\"text-align: left;\">MAD</td><td style=\"text-align: left;\">Moroccan Dirham</td><td style=\"text-align: left;\">MA</td><td style=\"text-align: left;\">Morocco</td><td style=\"text-align: left;\">212</td></tr><tr><td style=\"text-align: left;\">MZN</td><td style=\"text-align: left;\">Mozambique Metical</td><td style=\"text-align: left;\">MZ</td><td style=\"text-align: left;\">Mozambique</td><td style=\"text-align: left;\">258</td></tr><tr><td style=\"text-align: left;\">NAD</td><td style=\"text-align: left;\">Namibia Dollar</td><td style=\"text-align: left;\">NA</td><td style=\"text-align: left;\">Namibia</td><td style=\"text-align: left;\">264</td></tr><tr><td style=\"text-align: left;\">XOF</td><td style=\"text-align: left;\">CFA Franc BCEAO</td><td style=\"text-align: left;\">NE</td><td style=\"text-align: left;\">Niger</td><td style=\"text-align: left;\">227</td></tr><tr><td style=\"text-align: left;\">NGN</td><td style=\"text-align: left;\">Nigeria Naira</td><td style=\"text-align: left;\">NG</td><td style=\"text-align: left;\">Nigeria</td><td style=\"text-align: left;\">234</td></tr><tr><td style=\"text-align: left;\">RWF</td><td style=\"text-align: left;\">Rwandan Franc</td><td style=\"text-align: left;\">RW</td><td style=\"text-align: left;\">Rwanda</td><td style=\"text-align: left;\">250</td></tr><tr><td style=\"text-align: left;\">XOF</td><td style=\"text-align: left;\">CFA Franc BCEAO</td><td style=\"text-align: left;\">SN</td><td style=\"text-align: left;\">Senegal</td><td style=\"text-align: left;\">221</td></tr><tr><td style=\"text-align: left;\">SCR</td><td style=\"text-align: left;\">Seychelles Rupee</td><td style=\"text-align: left;\">SC</td><td style=\"text-align: left;\">Seychelles</td><td style=\"text-align: left;\">248</td></tr><tr><td style=\"text-align: left;\">SLL</td><td style=\"text-align: left;\">Sierra Leonean Leone</td><td style=\"text-align: left;\">SL</td><td style=\"text-align: left;\">Sierra Leone</td><td style=\"text-align: left;\">232</td></tr><tr><td style=\"text-align: left;\">SOS</td><td style=\"text-align: left;\">Somalia Shilling</td><td style=\"text-align: left;\">SO</td><td style=\"text-align: left;\">Somalia</td><td style=\"text-align: left;\">252</td></tr><tr><td style=\"text-align: left;\">ZAR</td><td style=\"text-align: left;\">South Africa Rand</td><td style=\"text-align: left;\">ZA</td><td style=\"text-align: left;\">South Africa</td><td style=\"text-align: left;\">27</td></tr><tr><td style=\"text-align: left;\">SDG</td><td style=\"text-align: left;\">Sudanese Pound</td><td style=\"text-align: left;\">SD</td><td style=\"text-align: left;\">Sudan</td><td style=\"text-align: left;\">249</td></tr><tr><td style=\"text-align: left;\">SZL</td><td style=\"text-align: left;\">Swazi Lilangeni</td><td style=\"text-align: left;\">SZ</td><td style=\"text-align: left;\">Eswatini</td><td style=\"text-align: left;\">268</td></tr><tr><td style=\"text-align: left;\">TZS</td><td style=\"text-align: left;\">Tanzanian Shilling</td><td style=\"text-align: left;\">TZ</td><td style=\"text-align: left;\">Tanzania, United Republic of</td><td style=\"text-align: left;\">255</td></tr><tr><td style=\"text-align: left;\">XOF</td><td style=\"text-align: left;\">CFA Franc BCEAO</td><td style=\"text-align: left;\">TG</td><td style=\"text-align: left;\">Togo</td><td style=\"text-align: left;\">228</td></tr><tr><td style=\"text-align: left;\">TND</td><td style=\"text-align: left;\">Tunisian Dinar</td><td style=\"text-align: left;\">TN</td><td style=\"text-align: left;\">Tunisia</td><td style=\"text-align: left;\">216</td></tr><tr><td style=\"text-align: left;\">UGX</td><td style=\"text-align: left;\">Ugandan Shilling</td><td style=\"text-align: left;\">UG</td><td style=\"text-align: left;\">Uganda</td><td style=\"text-align: left;\">256</td></tr><tr><td style=\"text-align: left;\">MAD</td><td style=\"text-align: left;\">Moroccan Dirham</td><td style=\"text-align: left;\">EH</td><td style=\"text-align: left;\">Western Sahara</td><td style=\"text-align: left;\">212</td></tr><tr><td style=\"text-align: left;\">ZMK</td><td style=\"text-align: left;\">Zambian Kwacha</td><td style=\"text-align: left;\">ZM</td><td style=\"text-align: left;\">Zambia</td><td style=\"text-align: left;\">260</td></tr><tr><td style=\"text-align: left;\">ZWL</td><td style=\"text-align: left;\">Zimbabwean Dollar</td><td style=\"text-align: left;\">ZW</td><td style=\"text-align: left;\">Zimbabwe</td><td style=\"text-align: left;\">263</td></tr></tbody></table>\n",
    "\"\"\""
   ]
  },
  {
   "cell_type": "code",
   "execution_count": 30,
   "id": "0031fc8c",
   "metadata": {},
   "outputs": [],
   "source": [
    "asia_html = \"\"\"\n",
    "<table><thead><tr><th style=\"text-align: left;\">Currency code</th><th style=\"text-align: left;\">Currency name</th><th style=\"text-align: left;\">ISO2 name</th><th style=\"text-align: left;\">Country name</th><th style=\"text-align: left;\">Phone code</th></tr></thead><tbody><tr><td style=\"text-align: left;\">AMD</td><td style=\"text-align: left;\">Armenian Dram</td><td style=\"text-align: left;\">AM</td><td style=\"text-align: left;\">Armenia</td><td style=\"text-align: left;\">374</td></tr><tr><td style=\"text-align: left;\">BDT</td><td style=\"text-align: left;\">Bangladeshi Taka</td><td style=\"text-align: left;\">BD</td><td style=\"text-align: left;\">Bangladesh</td><td style=\"text-align: left;\">880</td></tr><tr><td style=\"text-align: left;\">BTN</td><td style=\"text-align: left;\">Bhutanese Ngultrum</td><td style=\"text-align: left;\">BT</td><td style=\"text-align: left;\">Bhutan</td><td style=\"text-align: left;\">975</td></tr><tr><td style=\"text-align: left;\">BND</td><td style=\"text-align: left;\">Brunei Darussalam Dollar</td><td style=\"text-align: left;\">BN</td><td style=\"text-align: left;\">Brunei Darussalam</td><td style=\"text-align: left;\">673</td></tr><tr><td style=\"text-align: left;\">KHR</td><td style=\"text-align: left;\">Cambodia Riel</td><td style=\"text-align: left;\">KH</td><td style=\"text-align: left;\">Cambodia</td><td style=\"text-align: left;\">855</td></tr><tr><td style=\"text-align: left;\">CNY</td><td style=\"text-align: left;\">China Yuan Renminbi</td><td style=\"text-align: left;\">CN</td><td style=\"text-align: left;\">China</td><td style=\"text-align: left;\">86</td></tr><tr><td style=\"text-align: left;\">HKD</td><td style=\"text-align: left;\">Hong Kong Dollar</td><td style=\"text-align: left;\">HK</td><td style=\"text-align: left;\">Hong Kong</td><td style=\"text-align: left;\">852</td></tr><tr><td style=\"text-align: left;\">INR</td><td style=\"text-align: left;\">India Rupee</td><td style=\"text-align: left;\">IN</td><td style=\"text-align: left;\">India</td><td style=\"text-align: left;\">91</td></tr><tr><td style=\"text-align: left;\">IDR</td><td style=\"text-align: left;\">Indonesia Rupiah</td><td style=\"text-align: left;\">ID</td><td style=\"text-align: left;\">Indonesia</td><td style=\"text-align: left;\">62</td></tr><tr><td style=\"text-align: left;\">JPY</td><td style=\"text-align: left;\">Japan Yen</td><td style=\"text-align: left;\">JP</td><td style=\"text-align: left;\">Japan</td><td style=\"text-align: left;\">81</td></tr><tr><td style=\"text-align: left;\">KPW</td><td style=\"text-align: left;\">Korea (North) Won</td><td style=\"text-align: left;\">KP</td><td style=\"text-align: left;\">Korea, Democratic People's Republic of</td><td style=\"text-align: left;\">850</td></tr><tr><td style=\"text-align: left;\">KRW</td><td style=\"text-align: left;\">Korea (South) Won</td><td style=\"text-align: left;\">KR</td><td style=\"text-align: left;\">Korea, Republic of</td><td style=\"text-align: left;\">82</td></tr><tr><td style=\"text-align: left;\">LAK</td><td style=\"text-align: left;\">Laos Kip</td><td style=\"text-align: left;\">LA</td><td style=\"text-align: left;\">Lao People's Democratic Republic</td><td style=\"text-align: left;\">856</td></tr><tr><td style=\"text-align: left;\">MOP</td><td style=\"text-align: left;\">Macanese Pataca</td><td style=\"text-align: left;\">MO</td><td style=\"text-align: left;\">Macao</td><td style=\"text-align: left;\">853</td></tr><tr><td style=\"text-align: left;\">MYR</td><td style=\"text-align: left;\">Malaysia Ringgit</td><td style=\"text-align: left;\">MY</td><td style=\"text-align: left;\">Malaysia</td><td style=\"text-align: left;\">60</td></tr><tr><td style=\"text-align: left;\">MVR</td><td style=\"text-align: left;\">Maldivian Rufiyaa</td><td style=\"text-align: left;\">MV</td><td style=\"text-align: left;\">Maldives</td><td style=\"text-align: left;\">960</td></tr><tr><td style=\"text-align: left;\">MNT</td><td style=\"text-align: left;\">Mongolia Tugrik</td><td style=\"text-align: left;\">MN</td><td style=\"text-align: left;\">Mongolia</td><td style=\"text-align: left;\">976</td></tr><tr><td style=\"text-align: left;\">MMK</td><td style=\"text-align: left;\">Myanma Kyat</td><td style=\"text-align: left;\">MM</td><td style=\"text-align: left;\">Myanmar</td><td style=\"text-align: left;\">95</td></tr><tr><td style=\"text-align: left;\">NPR</td><td style=\"text-align: left;\">Nepal Rupee</td><td style=\"text-align: left;\">NP</td><td style=\"text-align: left;\">Nepal</td><td style=\"text-align: left;\">977</td></tr><tr><td style=\"text-align: left;\">PHP</td><td style=\"text-align: left;\">Philippines Peso</td><td style=\"text-align: left;\">PH</td><td style=\"text-align: left;\">Philippines</td><td style=\"text-align: left;\">63</td></tr><tr><td style=\"text-align: left;\">RUB</td><td style=\"text-align: left;\">Russia Ruble</td><td style=\"text-align: left;\">RU</td><td style=\"text-align: left;\">Russian Federation</td><td style=\"text-align: left;\">7</td></tr><tr><td style=\"text-align: left;\">SGD</td><td style=\"text-align: left;\">Singapore Dollar</td><td style=\"text-align: left;\">SG</td><td style=\"text-align: left;\">Singapore</td><td style=\"text-align: left;\">65</td></tr><tr><td style=\"text-align: left;\">LKR</td><td style=\"text-align: left;\">Sri Lanka Rupee</td><td style=\"text-align: left;\">LK</td><td style=\"text-align: left;\">Sri Lanka</td><td style=\"text-align: left;\">94</td></tr><tr><td style=\"text-align: left;\">TWD</td><td style=\"text-align: left;\">New Taiwan Dollar</td><td style=\"text-align: left;\">TW</td><td style=\"text-align: left;\">Taiwan, Republic of China</td><td style=\"text-align: left;\">886</td></tr><tr><td style=\"text-align: left;\">THB</td><td style=\"text-align: left;\">Thailand Baht</td><td style=\"text-align: left;\">TH</td><td style=\"text-align: left;\">Thailand</td><td style=\"text-align: left;\">66</td></tr><tr><td style=\"text-align: left;\">USD</td><td style=\"text-align: left;\">United States Dollar</td><td style=\"text-align: left;\">TL</td><td style=\"text-align: left;\">Timor-Leste</td><td style=\"text-align: left;\">670</td></tr><tr><td style=\"text-align: left;\">VND</td><td style=\"text-align: left;\">Vietnam Dong</td><td style=\"text-align: left;\">VN</td><td style=\"text-align: left;\">Vietnam</td><td style=\"text-align: left;\">84</td></tr></tbody></table>\n",
    "\"\"\""
   ]
  },
  {
   "cell_type": "code",
   "execution_count": 31,
   "id": "56893943",
   "metadata": {},
   "outputs": [],
   "source": [
    "australia_oceanita_html = \"\"\"\n",
    "<table><thead><tr><th style=\"text-align: left;\">Currency code</th><th style=\"text-align: left;\">Currency name</th><th style=\"text-align: left;\">ISO2 name</th><th style=\"text-align: left;\">Country name</th><th style=\"text-align: left;\">Phone code</th></tr></thead><tbody><tr><td style=\"text-align: left;\">AUD</td><td style=\"text-align: left;\">Australia Dollar</td><td style=\"text-align: left;\">AU</td><td style=\"text-align: left;\">Australia</td><td style=\"text-align: left;\">61</td></tr><tr><td style=\"text-align: left;\">AUD</td><td style=\"text-align: left;\">Australia Dollar</td><td style=\"text-align: left;\">CX</td><td style=\"text-align: left;\">Christmas Island</td><td style=\"text-align: left;\">61</td></tr><tr><td style=\"text-align: left;\">AUD</td><td style=\"text-align: left;\">Australia Dollar</td><td style=\"text-align: left;\">CC</td><td style=\"text-align: left;\">Cocos (Keeling) Islands</td><td style=\"text-align: left;\">61</td></tr><tr><td style=\"text-align: left;\">NZD</td><td style=\"text-align: left;\">New Zealand Dollar</td><td style=\"text-align: left;\">CK</td><td style=\"text-align: left;\">Cook Islands</td><td style=\"text-align: left;\">682</td></tr><tr><td style=\"text-align: left;\">AUD</td><td style=\"text-align: left;\">Australia Dollar</td><td style=\"text-align: left;\">HM</td><td style=\"text-align: left;\">Heard Island and McDonald Islands</td><td style=\"text-align: left;\">0</td></tr><tr><td style=\"text-align: left;\">AUD</td><td style=\"text-align: left;\">Australia Dollar</td><td style=\"text-align: left;\">KI</td><td style=\"text-align: left;\">Kiribati</td><td style=\"text-align: left;\">686</td></tr><tr><td style=\"text-align: left;\">USD</td><td style=\"text-align: left;\">United States Dollar</td><td style=\"text-align: left;\">MH</td><td style=\"text-align: left;\">Marshall Islands</td><td style=\"text-align: left;\">692</td></tr><tr><td style=\"text-align: left;\">AUD</td><td style=\"text-align: left;\">Australia Dollar</td><td style=\"text-align: left;\">NR</td><td style=\"text-align: left;\">Nauru</td><td style=\"text-align: left;\">674</td></tr><tr><td style=\"text-align: left;\">XPF</td><td style=\"text-align: left;\">CFP Franc</td><td style=\"text-align: left;\">NC</td><td style=\"text-align: left;\">New Caledonia</td><td style=\"text-align: left;\">687</td></tr><tr><td style=\"text-align: left;\">NZD</td><td style=\"text-align: left;\">New Zealand Dollar</td><td style=\"text-align: left;\">NZ</td><td style=\"text-align: left;\">New Zealand</td><td style=\"text-align: left;\">64</td></tr><tr><td style=\"text-align: left;\">NZD</td><td style=\"text-align: left;\">New Zealand Dollar</td><td style=\"text-align: left;\">NU</td><td style=\"text-align: left;\">Niue</td><td style=\"text-align: left;\">683</td></tr><tr><td style=\"text-align: left;\">AUD</td><td style=\"text-align: left;\">Australia Dollar</td><td style=\"text-align: left;\">NF</td><td style=\"text-align: left;\">Norfolk Island</td><td style=\"text-align: left;\">672</td></tr><tr><td style=\"text-align: left;\">PGK</td><td style=\"text-align: left;\">Papua New Guinean Kina</td><td style=\"text-align: left;\">PG</td><td style=\"text-align: left;\">Papua New Guinea</td><td style=\"text-align: left;\">675</td></tr><tr><td style=\"text-align: left;\">NZD</td><td style=\"text-align: left;\">New Zealand Dollar</td><td style=\"text-align: left;\">PN</td><td style=\"text-align: left;\">Pitcairn</td><td style=\"text-align: left;\">870</td></tr><tr><td style=\"text-align: left;\">SBD</td><td style=\"text-align: left;\">Solomon Islands Dollar</td><td style=\"text-align: left;\">SB</td><td style=\"text-align: left;\">Solomon Islands</td><td style=\"text-align: left;\">677</td></tr><tr><td style=\"text-align: left;\">NZD</td><td style=\"text-align: left;\">New Zealand Dollar</td><td style=\"text-align: left;\">TK</td><td style=\"text-align: left;\">Tokelau</td><td style=\"text-align: left;\">690</td></tr><tr><td style=\"text-align: left;\">TOP</td><td style=\"text-align: left;\">Tongan Pa'anga</td><td style=\"text-align: left;\">TO</td><td style=\"text-align: left;\">Tonga</td><td style=\"text-align: left;\">676</td></tr><tr><td style=\"text-align: left;\">AUD</td><td style=\"text-align: left;\">Australia Dollar</td><td style=\"text-align: left;\">TV</td><td style=\"text-align: left;\">Tuvalu</td><td style=\"text-align: left;\">688</td></tr><tr><td style=\"text-align: left;\">VUV</td><td style=\"text-align: left;\">Vanuatu Vatu</td><td style=\"text-align: left;\">VU</td><td style=\"text-align: left;\">Vanuatu</td><td style=\"text-align: left;\">678</td></tr><tr><td style=\"text-align: left;\">XPF</td><td style=\"text-align: left;\">CFP Franc</td><td style=\"text-align: left;\">WF</td><td style=\"text-align: left;\">Wallis and Futuna</td><td style=\"text-align: left;\">681</td></tr></tbody></table>\n",
    "\"\"\""
   ]
  },
  {
   "cell_type": "code",
   "execution_count": 32,
   "id": "ed1db241",
   "metadata": {},
   "outputs": [],
   "source": [
    "caribbean_html = \"\"\"\n",
    "<table><thead><tr><th style=\"text-align: left;\">Currency code</th><th style=\"text-align: left;\">Currency name</th><th style=\"text-align: left;\">ISO2 name</th><th style=\"text-align: left;\">Country name</th><th style=\"text-align: left;\">Phone code</th></tr></thead><tbody><tr><td style=\"text-align: left;\">XCD</td><td style=\"text-align: left;\">East Caribbean Dollar</td><td style=\"text-align: left;\">AI</td><td style=\"text-align: left;\">Anguilla</td><td style=\"text-align: left;\">264</td></tr><tr><td style=\"text-align: left;\">XCD</td><td style=\"text-align: left;\">East Caribbean Dollar</td><td style=\"text-align: left;\">AG</td><td style=\"text-align: left;\">Antigua and Barbuda</td><td style=\"text-align: left;\">268</td></tr><tr><td style=\"text-align: left;\">AWG</td><td style=\"text-align: left;\">Aruba Guilder</td><td style=\"text-align: left;\">AW</td><td style=\"text-align: left;\">Aruba</td><td style=\"text-align: left;\">297</td></tr><tr><td style=\"text-align: left;\">BSD</td><td style=\"text-align: left;\">Bahamas Dollar</td><td style=\"text-align: left;\">BS</td><td style=\"text-align: left;\">Bahamas</td><td style=\"text-align: left;\">1</td></tr><tr><td style=\"text-align: left;\">BBD</td><td style=\"text-align: left;\">Barbados Dollar</td><td style=\"text-align: left;\">BB</td><td style=\"text-align: left;\">Barbados</td><td style=\"text-align: left;\">246</td></tr><tr><td style=\"text-align: left;\">BMD</td><td style=\"text-align: left;\">Bermuda Dollar</td><td style=\"text-align: left;\">BM</td><td style=\"text-align: left;\">Bermuda</td><td style=\"text-align: left;\">440</td></tr><tr><td style=\"text-align: left;\">KYD</td><td style=\"text-align: left;\">Cayman Islands Dollar</td><td style=\"text-align: left;\">KY</td><td style=\"text-align: left;\">Cayman Islands</td><td style=\"text-align: left;\">245</td></tr><tr><td style=\"text-align: left;\">CUP</td><td style=\"text-align: left;\">Cuba Peso</td><td style=\"text-align: left;\">CU</td><td style=\"text-align: left;\">Cuba</td><td style=\"text-align: left;\">53</td></tr><tr><td style=\"text-align: left;\">XCD</td><td style=\"text-align: left;\">East Caribbean Dollar</td><td style=\"text-align: left;\">DM</td><td style=\"text-align: left;\">Dominica</td><td style=\"text-align: left;\">767</td></tr><tr><td style=\"text-align: left;\">DOP</td><td style=\"text-align: left;\">Dominican Republic Peso</td><td style=\"text-align: left;\">DO</td><td style=\"text-align: left;\">Dominican Republic</td><td style=\"text-align: left;\">1</td></tr><tr><td style=\"text-align: left;\">XCD</td><td style=\"text-align: left;\">East Caribbean Dollar</td><td style=\"text-align: left;\">GD</td><td style=\"text-align: left;\">Grenada</td><td style=\"text-align: left;\">473</td></tr><tr><td style=\"text-align: left;\">HTG</td><td style=\"text-align: left;\">Haitian Gourde</td><td style=\"text-align: left;\">HT</td><td style=\"text-align: left;\">Haiti</td><td style=\"text-align: left;\">509</td></tr><tr><td style=\"text-align: left;\">JMD</td><td style=\"text-align: left;\">Jamaica Dollar</td><td style=\"text-align: left;\">JM</td><td style=\"text-align: left;\">Jamaica</td><td style=\"text-align: left;\">1</td></tr><tr><td style=\"text-align: left;\">XCD</td><td style=\"text-align: left;\">East Caribbean Dollar</td><td style=\"text-align: left;\">MS</td><td style=\"text-align: left;\">Montserrat</td><td style=\"text-align: left;\">1</td></tr><tr><td style=\"text-align: left;\">USD</td><td style=\"text-align: left;\">United States Dollar</td><td style=\"text-align: left;\">PR</td><td style=\"text-align: left;\">Puerto Rico</td><td style=\"text-align: left;\">1</td></tr><tr><td style=\"text-align: left;\">XCD</td><td style=\"text-align: left;\">East Caribbean Dollar</td><td style=\"text-align: left;\">KN</td><td style=\"text-align: left;\">Saint Kitts and Nevis</td><td style=\"text-align: left;\">868</td></tr><tr><td style=\"text-align: left;\">XCD</td><td style=\"text-align: left;\">East Caribbean Dollar</td><td style=\"text-align: left;\">LC</td><td style=\"text-align: left;\">Saint Lucia</td><td style=\"text-align: left;\">757</td></tr><tr><td style=\"text-align: left;\">XCD</td><td style=\"text-align: left;\">East Caribbean Dollar</td><td style=\"text-align: left;\">VC</td><td style=\"text-align: left;\">Saint Vincent and the Grenadines</td><td style=\"text-align: left;\">783</td></tr><tr><td style=\"text-align: left;\">TTD</td><td style=\"text-align: left;\">Trinidad and Tobago Dollar</td><td style=\"text-align: left;\">TT</td><td style=\"text-align: left;\">Trinidad and Tobago</td><td style=\"text-align: left;\">868</td></tr><tr><td style=\"text-align: left;\">USD</td><td style=\"text-align: left;\">United States Dollar</td><td style=\"text-align: left;\">TC</td><td style=\"text-align: left;\">Turks and Caicos Islands</td><td style=\"text-align: left;\">1</td></tr><tr><td style=\"text-align: left;\">USD</td><td style=\"text-align: left;\">United States Dollar</td><td style=\"text-align: left;\">VG</td><td style=\"text-align: left;\">Virgin Islands, British</td><td style=\"text-align: left;\">1</td></tr><tr><td style=\"text-align: left;\">USD</td><td style=\"text-align: left;\">United States Dollar</td><td style=\"text-align: left;\">VI</td><td style=\"text-align: left;\">Virgin Islands, U.S.</td><td style=\"text-align: left;\">1</td></tr></tbody></table>\n",
    "\"\"\""
   ]
  },
  {
   "cell_type": "code",
   "execution_count": 33,
   "id": "34490721",
   "metadata": {},
   "outputs": [],
   "source": [
    "europe_html = \"\"\"\n",
    "<table><thead><tr><th style=\"text-align: left;\">Currency code</th><th style=\"text-align: left;\">Currency name</th><th style=\"text-align: left;\">ISO2 name</th><th style=\"text-align: left;\">Country name</th><th style=\"text-align: left;\">Phone code</th></tr></thead><tbody><tr><td style=\"text-align: left;\">EUR</td><td style=\"text-align: left;\">Euro Member Countries</td><td style=\"text-align: left;\">AX</td><td style=\"text-align: left;\">Aland Islands</td><td style=\"text-align: left;\">340</td></tr><tr><td style=\"text-align: left;\">ALL</td><td style=\"text-align: left;\">Albania Lek</td><td style=\"text-align: left;\">AL</td><td style=\"text-align: left;\">Albania</td><td style=\"text-align: left;\">355</td></tr><tr><td style=\"text-align: left;\">EUR</td><td style=\"text-align: left;\">Euro Member Countries</td><td style=\"text-align: left;\">AD</td><td style=\"text-align: left;\">Andorra</td><td style=\"text-align: left;\">376</td></tr><tr><td style=\"text-align: left;\">EUR</td><td style=\"text-align: left;\">Euro Member Countries</td><td style=\"text-align: left;\">AT</td><td style=\"text-align: left;\">Austria</td><td style=\"text-align: left;\">43</td></tr><tr><td style=\"text-align: left;\">BYR</td><td style=\"text-align: left;\">Belarus Ruble</td><td style=\"text-align: left;\">BY</td><td style=\"text-align: left;\">Belarus</td><td style=\"text-align: left;\">375</td></tr><tr><td style=\"text-align: left;\">EUR</td><td style=\"text-align: left;\">Euro Member Countries</td><td style=\"text-align: left;\">BE</td><td style=\"text-align: left;\">Belgium</td><td style=\"text-align: left;\">32</td></tr><tr><td style=\"text-align: left;\">BAM</td><td style=\"text-align: left;\">Bosnia and Herzegovina Convertible Marka</td><td style=\"text-align: left;\">BA</td><td style=\"text-align: left;\">Bosnia and Herzegovina</td><td style=\"text-align: left;\">387</td></tr><tr><td style=\"text-align: left;\">NOK</td><td style=\"text-align: left;\">Norway Krone</td><td style=\"text-align: left;\">BV</td><td style=\"text-align: left;\">Bouvet Island</td><td style=\"text-align: left;\">55</td></tr><tr><td style=\"text-align: left;\">BGN</td><td style=\"text-align: left;\">Bulgaria Lev</td><td style=\"text-align: left;\">BG</td><td style=\"text-align: left;\">Bulgaria</td><td style=\"text-align: left;\">359</td></tr><tr><td style=\"text-align: left;\">HRK</td><td style=\"text-align: left;\">Croatia Kuna</td><td style=\"text-align: left;\">HR</td><td style=\"text-align: left;\">Croatia</td><td style=\"text-align: left;\">385</td></tr><tr><td style=\"text-align: left;\">EUR</td><td style=\"text-align: left;\">Euro Member Countries</td><td style=\"text-align: left;\">CY</td><td style=\"text-align: left;\">Cyprus</td><td style=\"text-align: left;\">357</td></tr><tr><td style=\"text-align: left;\">CZK</td><td style=\"text-align: left;\">Czech Republic Koruna</td><td style=\"text-align: left;\">CZ</td><td style=\"text-align: left;\">Czech Republic</td><td style=\"text-align: left;\">420</td></tr><tr><td style=\"text-align: left;\">DKK</td><td style=\"text-align: left;\">Denmark Krone</td><td style=\"text-align: left;\">DK</td><td style=\"text-align: left;\">Denmark</td><td style=\"text-align: left;\">45</td></tr><tr><td style=\"text-align: left;\">EUR</td><td style=\"text-align: left;\">Euro Member Countries</td><td style=\"text-align: left;\">EE</td><td style=\"text-align: left;\">Estonia</td><td style=\"text-align: left;\">372</td></tr><tr><td style=\"text-align: left;\">FKP</td><td style=\"text-align: left;\">Falkland Islands (Malvinas) Pound</td><td style=\"text-align: left;\">FK</td><td style=\"text-align: left;\">Falkland Islands (Malvinas)</td><td style=\"text-align: left;\">500</td></tr><tr><td style=\"text-align: left;\">DKK</td><td style=\"text-align: left;\">Denmark Krone</td><td style=\"text-align: left;\">FO</td><td style=\"text-align: left;\">Faroe Islands</td><td style=\"text-align: left;\">298</td></tr><tr><td style=\"text-align: left;\">EUR</td><td style=\"text-align: left;\">Euro Member Countries</td><td style=\"text-align: left;\">FI</td><td style=\"text-align: left;\">Finland</td><td style=\"text-align: left;\">358</td></tr><tr><td style=\"text-align: left;\">EUR</td><td style=\"text-align: left;\">Euro Member Countries</td><td style=\"text-align: left;\">FR</td><td style=\"text-align: left;\">France</td><td style=\"text-align: left;\">33</td></tr><tr><td style=\"text-align: left;\">EUR</td><td style=\"text-align: left;\">Euro Member Countries</td><td style=\"text-align: left;\">GF</td><td style=\"text-align: left;\">French Guiana</td><td style=\"text-align: left;\">594</td></tr><tr><td style=\"text-align: left;\">EUR</td><td style=\"text-align: left;\">Euro Member Countries</td><td style=\"text-align: left;\">TF</td><td style=\"text-align: left;\">French Southern Territories</td><td style=\"text-align: left;\">262</td></tr><tr><td style=\"text-align: left;\">GEL</td><td style=\"text-align: left;\">Georgian Lari</td><td style=\"text-align: left;\">GE</td><td style=\"text-align: left;\">Georgia</td><td style=\"text-align: left;\">995</td></tr><tr><td style=\"text-align: left;\">EUR</td><td style=\"text-align: left;\">Euro Member Countries</td><td style=\"text-align: left;\">DE</td><td style=\"text-align: left;\">Germany</td><td style=\"text-align: left;\">49</td></tr><tr><td style=\"text-align: left;\">GIP</td><td style=\"text-align: left;\">Gibraltar Pound</td><td style=\"text-align: left;\">GI</td><td style=\"text-align: left;\">Gibraltar</td><td style=\"text-align: left;\">350</td></tr><tr><td style=\"text-align: left;\">EUR</td><td style=\"text-align: left;\">Euro Member Countries</td><td style=\"text-align: left;\">GR</td><td style=\"text-align: left;\">Greece</td><td style=\"text-align: left;\">30</td></tr><tr><td style=\"text-align: left;\">DKK</td><td style=\"text-align: left;\">Denmark Krone</td><td style=\"text-align: left;\">GL</td><td style=\"text-align: left;\">Greenland</td><td style=\"text-align: left;\">299</td></tr><tr><td style=\"text-align: left;\">EUR</td><td style=\"text-align: left;\">Euro Member Countries</td><td style=\"text-align: left;\">GP</td><td style=\"text-align: left;\">Guadeloupe</td><td style=\"text-align: left;\">590</td></tr><tr><td style=\"text-align: left;\">GBP</td><td style=\"text-align: left;\">United Kingdom Pound</td><td style=\"text-align: left;\">GG</td><td style=\"text-align: left;\">Guernsey</td><td style=\"text-align: left;\">1437</td></tr><tr><td style=\"text-align: left;\">EUR</td><td style=\"text-align: left;\">Euro Member Countries</td><td style=\"text-align: left;\">VA</td><td style=\"text-align: left;\">Holy See (Vatican City State)</td><td style=\"text-align: left;\">379</td></tr><tr><td style=\"text-align: left;\">HUF</td><td style=\"text-align: left;\">Hungary Forint</td><td style=\"text-align: left;\">HU</td><td style=\"text-align: left;\">Hungary</td><td style=\"text-align: left;\">36</td></tr><tr><td style=\"text-align: left;\">ISK</td><td style=\"text-align: left;\">Iceland Krona</td><td style=\"text-align: left;\">IS</td><td style=\"text-align: left;\">Iceland</td><td style=\"text-align: left;\">354</td></tr><tr><td style=\"text-align: left;\">EUR</td><td style=\"text-align: left;\">Euro Member Countries</td><td style=\"text-align: left;\">IE</td><td style=\"text-align: left;\">Ireland</td><td style=\"text-align: left;\">353</td></tr><tr><td style=\"text-align: left;\">GBP</td><td style=\"text-align: left;\">United Kingdom Pound</td><td style=\"text-align: left;\">IM</td><td style=\"text-align: left;\">Isle of Man</td><td style=\"text-align: left;\">44</td></tr><tr><td style=\"text-align: left;\">EUR</td><td style=\"text-align: left;\">Euro Member Countries</td><td style=\"text-align: left;\">IT</td><td style=\"text-align: left;\">Italy</td><td style=\"text-align: left;\">39</td></tr><tr><td style=\"text-align: left;\">GBP</td><td style=\"text-align: left;\">United Kingdom Pound</td><td style=\"text-align: left;\">JE</td><td style=\"text-align: left;\">Jersey</td><td style=\"text-align: left;\">44</td></tr><tr><td style=\"text-align: left;\">EUR</td><td style=\"text-align: left;\">Euro Member Countries</td><td style=\"text-align: left;\">LV</td><td style=\"text-align: left;\">Latvia</td><td style=\"text-align: left;\">371</td></tr><tr><td style=\"text-align: left;\">CHF</td><td style=\"text-align: left;\">Switzerland Franc</td><td style=\"text-align: left;\">LI</td><td style=\"text-align: left;\">Liechtenstein</td><td style=\"text-align: left;\">423</td></tr><tr><td style=\"text-align: left;\">LTL</td><td style=\"text-align: left;\">Lithuania Litas</td><td style=\"text-align: left;\">LT</td><td style=\"text-align: left;\">Lithuania</td><td style=\"text-align: left;\">370</td></tr><tr><td style=\"text-align: left;\">EUR</td><td style=\"text-align: left;\">Euro Member Countries</td><td style=\"text-align: left;\">LU</td><td style=\"text-align: left;\">Luxembourg</td><td style=\"text-align: left;\">352</td></tr><tr><td style=\"text-align: left;\">MKD</td><td style=\"text-align: left;\">Macedonia Denar</td><td style=\"text-align: left;\">MK</td><td style=\"text-align: left;\">Macedonia, The Former Yugoslav Republic of</td><td style=\"text-align: left;\">389</td></tr><tr><td style=\"text-align: left;\">EUR</td><td style=\"text-align: left;\">Euro Member Countries</td><td style=\"text-align: left;\">MT</td><td style=\"text-align: left;\">Malta</td><td style=\"text-align: left;\">356</td></tr><tr><td style=\"text-align: left;\">EUR</td><td style=\"text-align: left;\">Euro Member Countries</td><td style=\"text-align: left;\">MQ</td><td style=\"text-align: left;\">Martinique</td><td style=\"text-align: left;\">596</td></tr><tr><td style=\"text-align: left;\">EUR</td><td style=\"text-align: left;\">Euro Member Countries</td><td style=\"text-align: left;\">YT</td><td style=\"text-align: left;\">Mayotte</td><td style=\"text-align: left;\">262</td></tr><tr><td style=\"text-align: left;\">MDL</td><td style=\"text-align: left;\">Moldovan Leu</td><td style=\"text-align: left;\">MD</td><td style=\"text-align: left;\">Moldova, Republic of</td><td style=\"text-align: left;\">373</td></tr><tr><td style=\"text-align: left;\">EUR</td><td style=\"text-align: left;\">Euro Member Countries</td><td style=\"text-align: left;\">MC</td><td style=\"text-align: left;\">Monaco</td><td style=\"text-align: left;\">377</td></tr><tr><td style=\"text-align: left;\">EUR</td><td style=\"text-align: left;\">Euro Member Countries</td><td style=\"text-align: left;\">ME</td><td style=\"text-align: left;\">Montenegro</td><td style=\"text-align: left;\">382</td></tr><tr><td style=\"text-align: left;\">EUR</td><td style=\"text-align: left;\">Euro Member Countries</td><td style=\"text-align: left;\">NL</td><td style=\"text-align: left;\">Netherlands</td><td style=\"text-align: left;\">31</td></tr><tr><td style=\"text-align: left;\">ANG</td><td style=\"text-align: left;\">Dutch Guilder</td><td style=\"text-align: left;\">AN</td><td style=\"text-align: left;\">Netherlands Antilles</td><td style=\"text-align: left;\">599</td></tr><tr><td style=\"text-align: left;\">NOK</td><td style=\"text-align: left;\">Norway Krone</td><td style=\"text-align: left;\">NO</td><td style=\"text-align: left;\">Norway</td><td style=\"text-align: left;\">47</td></tr><tr><td style=\"text-align: left;\">PLN</td><td style=\"text-align: left;\">Poland Zloty</td><td style=\"text-align: left;\">PL</td><td style=\"text-align: left;\">Poland</td><td style=\"text-align: left;\">48</td></tr><tr><td style=\"text-align: left;\">EUR</td><td style=\"text-align: left;\">Euro Member Countries</td><td style=\"text-align: left;\">PT</td><td style=\"text-align: left;\">Portugal</td><td style=\"text-align: left;\">351</td></tr><tr><td style=\"text-align: left;\">EUR</td><td style=\"text-align: left;\">Euro Member Countries</td><td style=\"text-align: left;\">RE</td><td style=\"text-align: left;\">Reunion</td><td style=\"text-align: left;\">262</td></tr><tr><td style=\"text-align: left;\">RON</td><td style=\"text-align: left;\">Romania New Leu</td><td style=\"text-align: left;\">RO</td><td style=\"text-align: left;\">Romania</td><td style=\"text-align: left;\">40</td></tr><tr><td style=\"text-align: left;\">EUR</td><td style=\"text-align: left;\">Euro Member Countries</td><td style=\"text-align: left;\">PM</td><td style=\"text-align: left;\">Saint Pierre and Miquelon</td><td style=\"text-align: left;\">508</td></tr><tr><td style=\"text-align: left;\">EUR</td><td style=\"text-align: left;\">Euro Member Countries</td><td style=\"text-align: left;\">SM</td><td style=\"text-align: left;\">San Marino</td><td style=\"text-align: left;\">378</td></tr><tr><td style=\"text-align: left;\">RSD</td><td style=\"text-align: left;\">Serbian dinar</td><td style=\"text-align: left;\">RS</td><td style=\"text-align: left;\">Serbia</td><td style=\"text-align: left;\">381</td></tr><tr><td style=\"text-align: left;\">EUR</td><td style=\"text-align: left;\">Euro Member Countries</td><td style=\"text-align: left;\">ES</td><td style=\"text-align: left;\">Spain</td><td style=\"text-align: left;\">34</td></tr><tr><td style=\"text-align: left;\">EUR</td><td style=\"text-align: left;\">Euro Member Countries</td><td style=\"text-align: left;\">SK</td><td style=\"text-align: left;\">Slovakia</td><td style=\"text-align: left;\">421</td></tr><tr><td style=\"text-align: left;\">EUR</td><td style=\"text-align: left;\">Euro Member Countries</td><td style=\"text-align: left;\">SI</td><td style=\"text-align: left;\">Slovenia</td><td style=\"text-align: left;\">386</td></tr><tr><td style=\"text-align: left;\">NOK</td><td style=\"text-align: left;\">Norway Krone</td><td style=\"text-align: left;\">SJ</td><td style=\"text-align: left;\">Svalbard and Jan Mayen</td><td style=\"text-align: left;\">47</td></tr><tr><td style=\"text-align: left;\">SEK</td><td style=\"text-align: left;\">Sweden Krona</td><td style=\"text-align: left;\">SE</td><td style=\"text-align: left;\">Sweden</td><td style=\"text-align: left;\">46</td></tr><tr><td style=\"text-align: left;\">CHF</td><td style=\"text-align: left;\">Switzerland Franc</td><td style=\"text-align: left;\">CH</td><td style=\"text-align: left;\">Switzerland</td><td style=\"text-align: left;\">41</td></tr><tr><td style=\"text-align: left;\">UAH</td><td style=\"text-align: left;\">Ukraine Hryvna</td><td style=\"text-align: left;\">UA</td><td style=\"text-align: left;\">Ukraine</td><td style=\"text-align: left;\">380</td></tr><tr><td style=\"text-align: left;\">GBP</td><td style=\"text-align: left;\">United Kingdom Pound</td><td style=\"text-align: left;\">GB</td><td style=\"text-align: left;\">United Kingdom</td><td style=\"text-align: left;\">44</td></tr></tbody></table>\n",
    "\"\"\""
   ]
  },
  {
   "cell_type": "code",
   "execution_count": 34,
   "id": "4de66388",
   "metadata": {},
   "outputs": [],
   "source": [
    "island_html = \"\"\"\n",
    "<table><thead><tr><th style=\"text-align: left;\">Currency code</th><th style=\"text-align: left;\">Currency name</th><th style=\"text-align: left;\">ISO2 name</th><th style=\"text-align: left;\">Country name</th><th style=\"text-align: left;\">Phone code</th></tr></thead><tbody><tr><td style=\"text-align: left;\"></td><td style=\"text-align: left;\"></td><td style=\"text-align: left;\">AQ</td><td style=\"text-align: left;\">Antarctica</td><td style=\"text-align: left;\">672</td></tr><tr><td style=\"text-align: left;\">USD</td><td style=\"text-align: left;\">United States Dollar</td><td style=\"text-align: left;\">AS</td><td style=\"text-align: left;\">American Samoa</td><td style=\"text-align: left;\">648</td></tr><tr><td style=\"text-align: left;\">USD</td><td style=\"text-align: left;\">United States Dollar</td><td style=\"text-align: left;\">IO</td><td style=\"text-align: left;\">British Indian Ocean Territory</td><td style=\"text-align: left;\">246</td></tr><tr><td style=\"text-align: left;\">FJD</td><td style=\"text-align: left;\">Fiji Dollar</td><td style=\"text-align: left;\">FJ</td><td style=\"text-align: left;\">Fiji</td><td style=\"text-align: left;\">679</td></tr><tr><td style=\"text-align: left;\">XPF</td><td style=\"text-align: left;\">CFP Franc</td><td style=\"text-align: left;\">PF</td><td style=\"text-align: left;\">French Polynesia</td><td style=\"text-align: left;\">689</td></tr><tr><td style=\"text-align: left;\">USD</td><td style=\"text-align: left;\">United States Dollar</td><td style=\"text-align: left;\">GU</td><td style=\"text-align: left;\">Guam</td><td style=\"text-align: left;\">1</td></tr><tr><td style=\"text-align: left;\">USD</td><td style=\"text-align: left;\">United States Dollar</td><td style=\"text-align: left;\">FM</td><td style=\"text-align: left;\">Micronesia, Federated States of</td><td style=\"text-align: left;\">691</td></tr><tr><td style=\"text-align: left;\">USD</td><td style=\"text-align: left;\">United States Dollar</td><td style=\"text-align: left;\">MP</td><td style=\"text-align: left;\">Northern Mariana Islands</td><td style=\"text-align: left;\">1</td></tr><tr><td style=\"text-align: left;\">USD</td><td style=\"text-align: left;\">United States Dollar</td><td style=\"text-align: left;\">PW</td><td style=\"text-align: left;\">Palau</td><td style=\"text-align: left;\">680</td></tr><tr><td style=\"text-align: left;\">SHP</td><td style=\"text-align: left;\">Saint Helena Pound</td><td style=\"text-align: left;\">SH</td><td style=\"text-align: left;\">Saint Helena</td><td style=\"text-align: left;\">290</td></tr><tr><td style=\"text-align: left;\">WST</td><td style=\"text-align: left;\">Samoan Tala</td><td style=\"text-align: left;\">WS</td><td style=\"text-align: left;\">Samoa</td><td style=\"text-align: left;\">685</td></tr><tr><td style=\"text-align: left;\">STD</td><td style=\"text-align: left;\">Sao Tome and Principe Dobra (pre-2018)</td><td style=\"text-align: left;\">ST</td><td style=\"text-align: left;\">Sao Tome and Principe</td><td style=\"text-align: left;\">239</td></tr><tr><td style=\"text-align: left;\">GBP</td><td style=\"text-align: left;\">United Kingdom Pound</td><td style=\"text-align: left;\">GS</td><td style=\"text-align: left;\">South Georgia and the South Sandwich Islands</td><td style=\"text-align: left;\">500</td></tr></tbody></table>\n",
    "\"\"\""
   ]
  },
  {
   "cell_type": "code",
   "execution_count": 35,
   "id": "b2cffa22",
   "metadata": {},
   "outputs": [],
   "source": [
    "middle_east_html = \"\"\"\n",
    "<table><thead><tr><th style=\"text-align: left;\">Currency code</th><th style=\"text-align: left;\">Currency name</th><th style=\"text-align: left;\">ISO2 name</th><th style=\"text-align: left;\">Country name</th><th style=\"text-align: left;\">Phone code</th></tr></thead><tbody><tr><td style=\"text-align: left;\">AFN</td><td style=\"text-align: left;\">Afghanistan Afghani</td><td style=\"text-align: left;\">AF</td><td style=\"text-align: left;\">Afghanistan</td><td style=\"text-align: left;\">93</td></tr><tr><td style=\"text-align: left;\">AZN</td><td style=\"text-align: left;\">Azerbaijan New Manat</td><td style=\"text-align: left;\">AZ</td><td style=\"text-align: left;\">Azerbaijan</td><td style=\"text-align: left;\">994</td></tr><tr><td style=\"text-align: left;\">BHD</td><td style=\"text-align: left;\">Bahraini Dinar</td><td style=\"text-align: left;\">BH</td><td style=\"text-align: left;\">Bahrain</td><td style=\"text-align: left;\">973</td></tr><tr><td style=\"text-align: left;\">IRR</td><td style=\"text-align: left;\">Iran Rial</td><td style=\"text-align: left;\">IR</td><td style=\"text-align: left;\">Iran, Islamic Republic Of</td><td style=\"text-align: left;\">98</td></tr><tr><td style=\"text-align: left;\">IQD</td><td style=\"text-align: left;\">Iraqi Dinar</td><td style=\"text-align: left;\">IQ</td><td style=\"text-align: left;\">Iraq</td><td style=\"text-align: left;\">964</td></tr><tr><td style=\"text-align: left;\">ILS</td><td style=\"text-align: left;\">Israel Shekel</td><td style=\"text-align: left;\">IL</td><td style=\"text-align: left;\">Israel</td><td style=\"text-align: left;\">972</td></tr><tr><td style=\"text-align: left;\">JOD</td><td style=\"text-align: left;\">Jordanian Dinar</td><td style=\"text-align: left;\">JO</td><td style=\"text-align: left;\">Jordan</td><td style=\"text-align: left;\">962</td></tr><tr><td style=\"text-align: left;\">KZT</td><td style=\"text-align: left;\">Kazakhstan Tenge</td><td style=\"text-align: left;\">KZ</td><td style=\"text-align: left;\">Kazakhstan</td><td style=\"text-align: left;\">7</td></tr><tr><td style=\"text-align: left;\">KWD</td><td style=\"text-align: left;\">Kuwaiti Dinar</td><td style=\"text-align: left;\">KW</td><td style=\"text-align: left;\">Kuwait</td><td style=\"text-align: left;\">965</td></tr><tr><td style=\"text-align: left;\">KGS</td><td style=\"text-align: left;\">Kyrgyzstan Som</td><td style=\"text-align: left;\">KG</td><td style=\"text-align: left;\">Kyrgyzstan</td><td style=\"text-align: left;\">996</td></tr><tr><td style=\"text-align: left;\">LBP</td><td style=\"text-align: left;\">Lebanon Pound</td><td style=\"text-align: left;\">LB</td><td style=\"text-align: left;\">Lebanon</td><td style=\"text-align: left;\">961</td></tr><tr><td style=\"text-align: left;\">OMR</td><td style=\"text-align: left;\">Oman Rial</td><td style=\"text-align: left;\">OM</td><td style=\"text-align: left;\">Oman</td><td style=\"text-align: left;\">968</td></tr><tr><td style=\"text-align: left;\">PKR</td><td style=\"text-align: left;\">Pakistan Rupee</td><td style=\"text-align: left;\">PK</td><td style=\"text-align: left;\">Pakistan</td><td style=\"text-align: left;\">92</td></tr><tr><td style=\"text-align: left;\">ILS</td><td style=\"text-align: left;\">Israel Shekel</td><td style=\"text-align: left;\">PS</td><td style=\"text-align: left;\">Palestinian Territory, Occupied</td><td style=\"text-align: left;\">970</td></tr><tr><td style=\"text-align: left;\">QAR</td><td style=\"text-align: left;\">Qatar Riyal</td><td style=\"text-align: left;\">QA</td><td style=\"text-align: left;\">Qatar</td><td style=\"text-align: left;\">974</td></tr><tr><td style=\"text-align: left;\">SAR</td><td style=\"text-align: left;\">Saudi Arabia Riyal</td><td style=\"text-align: left;\">SA</td><td style=\"text-align: left;\">Saudi Arabia</td><td style=\"text-align: left;\">966</td></tr><tr><td style=\"text-align: left;\">SYP</td><td style=\"text-align: left;\">Syria Pound</td><td style=\"text-align: left;\">SY</td><td style=\"text-align: left;\">Syrian Arab Republic</td><td style=\"text-align: left;\">963</td></tr><tr><td style=\"text-align: left;\">TJS</td><td style=\"text-align: left;\">Tajikistani Somoni</td><td style=\"text-align: left;\">TJ</td><td style=\"text-align: left;\">Tajikistan</td><td style=\"text-align: left;\">992</td></tr><tr><td style=\"text-align: left;\">TRY</td><td style=\"text-align: left;\">Turkey Lira</td><td style=\"text-align: left;\">TR</td><td style=\"text-align: left;\">Turkey</td><td style=\"text-align: left;\">90</td></tr><tr><td style=\"text-align: left;\">TMT</td><td style=\"text-align: left;\">Turkmenistani Manat</td><td style=\"text-align: left;\">TM</td><td style=\"text-align: left;\">Turkmenistan</td><td style=\"text-align: left;\">993</td></tr><tr><td style=\"text-align: left;\">AED</td><td style=\"text-align: left;\">United Arab Emirates Dirham</td><td style=\"text-align: left;\">AE</td><td style=\"text-align: left;\">United Arab Emirates</td><td style=\"text-align: left;\">971</td></tr><tr><td style=\"text-align: left;\">UZS</td><td style=\"text-align: left;\">Uzbekistani Som</td><td style=\"text-align: left;\">UZ</td><td style=\"text-align: left;\">Uzbekistan</td><td style=\"text-align: left;\">998</td></tr><tr><td style=\"text-align: left;\">YER</td><td style=\"text-align: left;\">Yemen Rial</td><td style=\"text-align: left;\">YE</td><td style=\"text-align: left;\">Yemen</td><td style=\"text-align: left;\">967</td></tr></tbody></table>\n",
    "\"\"\""
   ]
  },
  {
   "cell_type": "code",
   "execution_count": 48,
   "id": "72cb9119",
   "metadata": {},
   "outputs": [],
   "source": [
    "north_central_america_html = \"\"\"\n",
    "<table><thead><tr><th style=\"text-align: left;\">Currency code</th><th style=\"text-align: left;\">Currency name</th><th style=\"text-align: left;\">ISO2 name</th><th style=\"text-align: left;\">Country name</th><th style=\"text-align: left;\">Phone code</th></tr></thead><tbody><tr><td style=\"text-align: left;\">BZD</td><td style=\"text-align: left;\">Belize Dollar</td><td style=\"text-align: left;\">BZ</td><td style=\"text-align: left;\">Belize</td><td style=\"text-align: left;\">501</td></tr><tr><td style=\"text-align: left;\">CAD</td><td style=\"text-align: left;\">Canada Dollar</td><td style=\"text-align: left;\">CA</td><td style=\"text-align: left;\">Canada</td><td style=\"text-align: left;\">1</td></tr><tr><td style=\"text-align: left;\">CRC</td><td style=\"text-align: left;\">Costa Rica Colon</td><td style=\"text-align: left;\">CR</td><td style=\"text-align: left;\">Costa Rica</td><td style=\"text-align: left;\">506</td></tr><tr><td style=\"text-align: left;\">USD</td><td style=\"text-align: left;\">United States Dollar</td><td style=\"text-align: left;\">SV</td><td style=\"text-align: left;\">El Salvador</td><td style=\"text-align: left;\">503</td></tr><tr><td style=\"text-align: left;\">GTQ</td><td style=\"text-align: left;\">Guatemala Quetzal</td><td style=\"text-align: left;\">GT</td><td style=\"text-align: left;\">Guatemala</td><td style=\"text-align: left;\">502</td></tr><tr><td style=\"text-align: left;\">HNL</td><td style=\"text-align: left;\">Honduras Lempira</td><td style=\"text-align: left;\">HN</td><td style=\"text-align: left;\">Honduras</td><td style=\"text-align: left;\">504</td></tr><tr><td style=\"text-align: left;\">MXN</td><td style=\"text-align: left;\">Mexico Peso</td><td style=\"text-align: left;\">MX</td><td style=\"text-align: left;\">Mexico</td><td style=\"text-align: left;\">52</td></tr><tr><td style=\"text-align: left;\">NIO</td><td style=\"text-align: left;\">Nicaragua Cordoba</td><td style=\"text-align: left;\">NI</td><td style=\"text-align: left;\">Nicaragua</td><td style=\"text-align: left;\">505</td></tr><tr><td style=\"text-align: left;\">PAB</td><td style=\"text-align: left;\">Panama Balboa</td><td style=\"text-align: left;\">PA</td><td style=\"text-align: left;\">Panama</td><td style=\"text-align: left;\">507</td></tr><tr><td style=\"text-align: left;\">USD</td><td style=\"text-align: left;\">United States Dollar</td><td style=\"text-align: left;\">US</td><td style=\"text-align: left;\">United States</td><td style=\"text-align: left;\">1</td></tr><tr><td style=\"text-align: left;\">USD</td><td style=\"text-align: left;\">United States Dollar</td><td style=\"text-align: left;\">UM</td><td style=\"text-align: left;\">United States Minor Outlying Islands</td><td style=\"text-align: left;\">1</td></tr></tbody></table>\n",
    "\"\"\""
   ]
  },
  {
   "cell_type": "code",
   "execution_count": 49,
   "id": "22c644d6",
   "metadata": {},
   "outputs": [],
   "source": [
    "south_america_html = \"\"\"\n",
    "<table><thead><tr><th style=\"text-align: left;\">Currency Code</th><th style=\"text-align: left;\">Currency Name</th><th style=\"text-align: left;\">ISO2 Name</th><th style=\"text-align: left;\">Country Name</th><th style=\"text-align: left;\">Phone Code</th></tr></thead><tbody><tr><td style=\"text-align: left;\">ARS</td><td style=\"text-align: left;\">Argentina Peso</td><td style=\"text-align: left;\">AR</td><td style=\"text-align: left;\">Argentina</td><td style=\"text-align: left;\">54</td></tr><tr><td style=\"text-align: left;\">BOB</td><td style=\"text-align: left;\">Bolivia Boliviano</td><td style=\"text-align: left;\">BO</td><td style=\"text-align: left;\">Bolivia</td><td style=\"text-align: left;\">591</td></tr><tr><td style=\"text-align: left;\">BRL</td><td style=\"text-align: left;\">Brazil Real</td><td style=\"text-align: left;\">BR</td><td style=\"text-align: left;\">Brazil</td><td style=\"text-align: left;\">55</td></tr><tr><td style=\"text-align: left;\">CLP</td><td style=\"text-align: left;\">Chile Peso</td><td style=\"text-align: left;\">CL</td><td style=\"text-align: left;\">Chile</td><td style=\"text-align: left;\">56</td></tr><tr><td style=\"text-align: left;\">COP</td><td style=\"text-align: left;\">Colombia Peso</td><td style=\"text-align: left;\">CO</td><td style=\"text-align: left;\">Colombia</td><td style=\"text-align: left;\">57</td></tr><tr><td style=\"text-align: left;\">USD</td><td style=\"text-align: left;\">United States Dollar</td><td style=\"text-align: left;\">EC</td><td style=\"text-align: left;\">Ecuador</td><td style=\"text-align: left;\">593</td></tr><tr><td style=\"text-align: left;\">GYD</td><td style=\"text-align: left;\">Guyana Dollar</td><td style=\"text-align: left;\">GY</td><td style=\"text-align: left;\">Guyana</td><td style=\"text-align: left;\">592</td></tr><tr><td style=\"text-align: left;\">PYG</td><td style=\"text-align: left;\">Paraguay Guarani</td><td style=\"text-align: left;\">PY</td><td style=\"text-align: left;\">Paraguay</td><td style=\"text-align: left;\">595</td></tr><tr><td style=\"text-align: left;\">PEN</td><td style=\"text-align: left;\">Peru Nuevo Sol</td><td style=\"text-align: left;\">PE</td><td style=\"text-align: left;\">Peru</td><td style=\"text-align: left;\">51</td></tr><tr><td style=\"text-align: left;\">SRD</td><td style=\"text-align: left;\">Suriname Dollar</td><td style=\"text-align: left;\">SR</td><td style=\"text-align: left;\">Suriname</td><td style=\"text-align: left;\">597</td></tr><tr><td style=\"text-align: left;\">UYU</td><td style=\"text-align: left;\">Uruguay Peso</td><td style=\"text-align: left;\">UY</td><td style=\"text-align: left;\">Uruguay</td><td style=\"text-align: left;\">598</td></tr><tr><td style=\"text-align: left;\">VEF</td><td style=\"text-align: left;\">Venezuela Bolivar</td><td style=\"text-align: left;\">VE</td><td style=\"text-align: left;\">Venezuela</td><td style=\"text-align: left;\">58</td></tr></tbody></table>\n",
    "\"\"\""
   ]
  },
  {
   "cell_type": "code",
   "execution_count": 42,
   "id": "530c0c7f",
   "metadata": {},
   "outputs": [
    {
     "name": "stdout",
     "output_type": "stream",
     "text": [
      "Defaulting to user installation because normal site-packages is not writeable\n",
      "Collecting html5lib\n",
      "  Downloading html5lib-1.1-py2.py3-none-any.whl.metadata (16 kB)\n",
      "Requirement already satisfied: six>=1.9 in c:\\users\\study_2025\\appdata\\roaming\\python\\python312\\site-packages (from html5lib) (1.17.0)\n",
      "Requirement already satisfied: webencodings in c:\\users\\study_2025\\appdata\\roaming\\python\\python312\\site-packages (from html5lib) (0.5.1)\n",
      "Downloading html5lib-1.1-py2.py3-none-any.whl (112 kB)\n",
      "Installing collected packages: html5lib\n",
      "Successfully installed html5lib-1.1\n",
      "Note: you may need to restart the kernel to use updated packages.\n"
     ]
    },
    {
     "name": "stderr",
     "output_type": "stream",
     "text": [
      "\n",
      "[notice] A new release of pip is available: 25.0 -> 25.0.1\n",
      "[notice] To update, run: python.exe -m pip install --upgrade pip\n"
     ]
    }
   ],
   "source": [
    "%pip install html5lib"
   ]
  },
  {
   "cell_type": "code",
   "execution_count": 43,
   "id": "27a25b7f",
   "metadata": {},
   "outputs": [
    {
     "name": "stdout",
     "output_type": "stream",
     "text": [
      "Defaulting to user installation because normal site-packages is not writeable\n",
      "Collecting beautifulsoup4\n",
      "  Downloading beautifulsoup4-4.13.4-py3-none-any.whl.metadata (3.8 kB)\n",
      "Collecting soupsieve>1.2 (from beautifulsoup4)\n",
      "  Downloading soupsieve-2.6-py3-none-any.whl.metadata (4.6 kB)\n",
      "Requirement already satisfied: typing-extensions>=4.0.0 in c:\\users\\study_2025\\appdata\\roaming\\python\\python312\\site-packages (from beautifulsoup4) (4.13.0)\n",
      "Downloading beautifulsoup4-4.13.4-py3-none-any.whl (187 kB)\n",
      "Downloading soupsieve-2.6-py3-none-any.whl (36 kB)\n",
      "Installing collected packages: soupsieve, beautifulsoup4\n",
      "Successfully installed beautifulsoup4-4.13.4 soupsieve-2.6\n",
      "Note: you may need to restart the kernel to use updated packages.\n"
     ]
    },
    {
     "name": "stderr",
     "output_type": "stream",
     "text": [
      "\n",
      "[notice] A new release of pip is available: 25.0 -> 25.0.1\n",
      "[notice] To update, run: python.exe -m pip install --upgrade pip\n"
     ]
    }
   ],
   "source": [
    "%pip install beautifulsoup4"
   ]
  },
  {
   "cell_type": "code",
   "execution_count": 44,
   "id": "03aab7eb",
   "metadata": {},
   "outputs": [],
   "source": [
    "def html_df(html:str) -> pd.DataFrame:\n",
    "    html_str = StringIO(html)\n",
    "    return pd.read_html(html_str)[0]"
   ]
  },
  {
   "cell_type": "code",
   "execution_count": 51,
   "id": "7f2850a8",
   "metadata": {},
   "outputs": [],
   "source": [
    "df = html_df(south_america_html)"
   ]
  },
  {
   "cell_type": "code",
   "execution_count": 52,
   "id": "fc92144a",
   "metadata": {},
   "outputs": [
    {
     "data": {
      "text/plain": [
       "Index(['Currency Code', 'Currency Name', 'ISO2 Name', 'Country Name',\n",
       "       'Phone Code'],\n",
       "      dtype='object')"
      ]
     },
     "execution_count": 52,
     "metadata": {},
     "output_type": "execute_result"
    }
   ],
   "source": [
    "df.columns"
   ]
  },
  {
   "cell_type": "code",
   "execution_count": 73,
   "id": "4c7cdcec",
   "metadata": {},
   "outputs": [],
   "source": [
    "# Diccionario: variable con HTML -> (region_id, nombre de región)\n",
    "regions_map = {\n",
    "    \"africa_html\": (1, \"Africa\"),\n",
    "    \"asia_html\": (2, \"Asia\"),\n",
    "    \"australia_oceanita_html\": (3, \"Australia and Oceania\"),\n",
    "    \"caribbean_html\": (4, \"Caribbean\"),\n",
    "    \"europe_html\": (5, \"Europe\"),\n",
    "    \"island_html\": (6, \"Island Territories\"),\n",
    "    \"middle_east_html\": (7, \"Middle East\"),\n",
    "    \"north_central_america_html\": (8, \"North America and Central America\"),\n",
    "    \"south_america_html\": (9, \"South America\"),\n",
    "}"
   ]
  },
  {
   "cell_type": "code",
   "execution_count": 74,
   "id": "bcd45fba",
   "metadata": {},
   "outputs": [
    {
     "name": "stdout",
     "output_type": "stream",
     "text": [
      "africa_html - RegionID: 1\n",
      "asia_html - RegionID: 2\n",
      "australia_oceanita_html - RegionID: 3\n",
      "caribbean_html - RegionID: 4\n",
      "europe_html - RegionID: 5\n",
      "island_html - RegionID: 6\n",
      "middle_east_html - RegionID: 7\n",
      "north_central_america_html - RegionID: 8\n",
      "south_america_html - RegionID: 9\n"
     ]
    }
   ],
   "source": [
    "for html_var, (region_id, _) in regions_map.items():\n",
    "    print(f'{html_var} - RegionID: {region_id}')"
   ]
  },
  {
   "cell_type": "code",
   "execution_count": 87,
   "id": "532f571e",
   "metadata": {},
   "outputs": [],
   "source": [
    "sql_inserts = []\n",
    "def save_countries_sql(regions_map: dict) -> None:\n",
    "    try:\n",
    "        total_rows = 0\n",
    "        for html_var, (region_id, _) in regions_map.items():\n",
    "            html_content = globals()[html_var]\n",
    "            df = html_df(html_content)\n",
    "            print(f'df: {html_var}\\tShape: {df.shape}')\n",
    "            total_rows += df.shape[0]\n",
    "\n",
    "            for row in df.itertuples(index=False):\n",
    "                currency_code = row[0]   # 'Currency Code'\n",
    "                iso2_code = row[2]       # 'ISO2 Name'\n",
    "                country_name = row[3].replace(\"'\", \"''\")  # 'Country Name'\n",
    "\n",
    "                insert = (\n",
    "                    f\"INSERT INTO fintech.countries (code, name, currency, region_id) \"\n",
    "                    f\"VALUES ('{iso2_code}', '{country_name}', '{currency_code}', {region_id});\"\n",
    "                )\n",
    "                sql_inserts.append(insert)\n",
    "\n",
    "        print(f'Total Rows: {total_rows}')\n",
    "        with open(\"insert_countries.sql.txt\", \"w\", encoding=\"utf-8\") as f:\n",
    "            f.write(\"\\n\".join(sql_inserts))\n",
    "\n",
    "        print(\"✅ Archivo insert_countries.sql.txt generado correctamente.\")\n",
    "    except Exception as e:\n",
    "        print(\"❌ Error:\", e)"
   ]
  },
  {
   "cell_type": "code",
   "execution_count": 88,
   "id": "4b03445c",
   "metadata": {},
   "outputs": [
    {
     "name": "stdout",
     "output_type": "stream",
     "text": [
      "df: africa_html\tShape: (53, 5)\n",
      "df: asia_html\tShape: (27, 5)\n",
      "df: australia_oceanita_html\tShape: (20, 5)\n",
      "df: caribbean_html\tShape: (22, 5)\n",
      "df: europe_html\tShape: (63, 5)\n",
      "df: island_html\tShape: (13, 5)\n",
      "df: middle_east_html\tShape: (23, 5)\n",
      "df: north_central_america_html\tShape: (11, 5)\n",
      "df: south_america_html\tShape: (12, 5)\n",
      "Total Rows: 244\n",
      "✅ Archivo insert_countries.sql.txt generado correctamente.\n"
     ]
    }
   ],
   "source": [
    "save_countries_sql(regions_map)"
   ]
  }
 ],
 "metadata": {
  "kernelspec": {
   "display_name": "Python 3",
   "language": "python",
   "name": "python3"
  },
  "language_info": {
   "codemirror_mode": {
    "name": "ipython",
    "version": 3
   },
   "file_extension": ".py",
   "mimetype": "text/x-python",
   "name": "python",
   "nbconvert_exporter": "python",
   "pygments_lexer": "ipython3",
   "version": "3.12.6"
  }
 },
 "nbformat": 4,
 "nbformat_minor": 5
}
